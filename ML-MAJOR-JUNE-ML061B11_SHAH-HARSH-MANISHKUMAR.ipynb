{
 "cells": [
  {
   "cell_type": "markdown",
   "metadata": {},
   "source": [
    "# ML-MAJOR PROJECT\n",
    "\n",
    "#### Problem Statement:\n",
    "                You will be predicting the costs of used(OLD) cars given the data collected from various sources and distributed across various locations in India.\n",
    "#### About the dataset:-\n",
    "             The given dataset is in a CSV(comma separated values) format,firstly it wasn't in UTF-encoded format so using  excel 2016 and got it into the required format.Now,There are a lot of variables when we explore the dataset.It has different features like :-Name,Location,Year,Kilometers Driven,Fuel Type,Transmission,Owner Type,Mileage,Engine,Power,Seats.. and so on.\n",
    "             With the given we have to predict the price of the  old cars.SO lets get in and have some fun :)."
   ]
  },
  {
   "cell_type": "code",
   "execution_count": 1,
   "metadata": {},
   "outputs": [],
   "source": [
    "import pandas as pd\n",
    "import matplotlib.pyplot as plt\n",
    "import numpy as np\n",
    "from sklearn import datasets, linear_model, preprocessing, svm\n",
    "from sklearn.preprocessing import StandardScaler, Normalizer\n",
    "from sklearn.model_selection import train_test_split\n",
    "import math\n",
    "import matplotlib\n",
    "import seaborn as sns\n",
    "%matplotlib inline"
   ]
  },
  {
   "cell_type": "code",
   "execution_count": 2,
   "metadata": {},
   "outputs": [],
   "source": [
    "s_data = pd.read_excel('Data_Train.xlsx')"
   ]
  },
  {
   "cell_type": "markdown",
   "metadata": {},
   "source": [
    "# 1. Identifying Outliers"
   ]
  },
  {
   "cell_type": "code",
   "execution_count": 3,
   "metadata": {},
   "outputs": [
    {
     "data": {
      "text/plain": [
       "32.44599999999997"
      ]
     },
     "execution_count": 3,
     "metadata": {},
     "output_type": "execute_result"
    }
   ],
   "source": [
    "#Outlier Identification\n",
    "#Calculating the maximum value (max_thresold) i.e the values higher than max_thresold will be considered as Outlier\n",
    "max_threshold=s_data[\"Price\"].quantile(0.95)\n",
    "max_threshold"
   ]
  },
  {
   "cell_type": "code",
   "execution_count": 4,
   "metadata": {
    "scrolled": true
   },
   "outputs": [
    {
     "data": {
      "text/html": [
       "<div>\n",
       "<style scoped>\n",
       "    .dataframe tbody tr th:only-of-type {\n",
       "        vertical-align: middle;\n",
       "    }\n",
       "\n",
       "    .dataframe tbody tr th {\n",
       "        vertical-align: top;\n",
       "    }\n",
       "\n",
       "    .dataframe thead th {\n",
       "        text-align: right;\n",
       "    }\n",
       "</style>\n",
       "<table border=\"1\" class=\"dataframe\">\n",
       "  <thead>\n",
       "    <tr style=\"text-align: right;\">\n",
       "      <th></th>\n",
       "      <th>Name</th>\n",
       "      <th>Location</th>\n",
       "      <th>Year</th>\n",
       "      <th>Kilometers_Driven</th>\n",
       "      <th>Fuel_Type</th>\n",
       "      <th>Transmission</th>\n",
       "      <th>Owner_Type</th>\n",
       "      <th>Mileage</th>\n",
       "      <th>Engine</th>\n",
       "      <th>Power</th>\n",
       "      <th>Seats</th>\n",
       "      <th>Price</th>\n",
       "    </tr>\n",
       "  </thead>\n",
       "  <tbody>\n",
       "    <tr>\n",
       "      <th>67</th>\n",
       "      <td>Mercedes-Benz C-Class Progressive C 220d</td>\n",
       "      <td>Coimbatore</td>\n",
       "      <td>2019</td>\n",
       "      <td>15369</td>\n",
       "      <td>Diesel</td>\n",
       "      <td>Automatic</td>\n",
       "      <td>First</td>\n",
       "      <td>0.0 kmpl</td>\n",
       "      <td>1950 CC</td>\n",
       "      <td>194 bhp</td>\n",
       "      <td>5.0</td>\n",
       "      <td>35.67</td>\n",
       "    </tr>\n",
       "    <tr>\n",
       "      <th>92</th>\n",
       "      <td>Audi A6 2011-2015 35 TDI Premium</td>\n",
       "      <td>Coimbatore</td>\n",
       "      <td>2018</td>\n",
       "      <td>48367</td>\n",
       "      <td>Diesel</td>\n",
       "      <td>Automatic</td>\n",
       "      <td>First</td>\n",
       "      <td>17.68 kmpl</td>\n",
       "      <td>1968 CC</td>\n",
       "      <td>174.33 bhp</td>\n",
       "      <td>5.0</td>\n",
       "      <td>39.58</td>\n",
       "    </tr>\n",
       "    <tr>\n",
       "      <th>134</th>\n",
       "      <td>Mercedes-Benz SLC 43 AMG</td>\n",
       "      <td>Kolkata</td>\n",
       "      <td>2017</td>\n",
       "      <td>13372</td>\n",
       "      <td>Petrol</td>\n",
       "      <td>Automatic</td>\n",
       "      <td>First</td>\n",
       "      <td>19.0 kmpl</td>\n",
       "      <td>2996 CC</td>\n",
       "      <td>362.07 bhp</td>\n",
       "      <td>2.0</td>\n",
       "      <td>54.00</td>\n",
       "    </tr>\n",
       "    <tr>\n",
       "      <th>148</th>\n",
       "      <td>Audi RS5 Coupe</td>\n",
       "      <td>Mumbai</td>\n",
       "      <td>2013</td>\n",
       "      <td>23000</td>\n",
       "      <td>Petrol</td>\n",
       "      <td>Automatic</td>\n",
       "      <td>First</td>\n",
       "      <td>11.05 kmpl</td>\n",
       "      <td>2894 CC</td>\n",
       "      <td>444 bhp</td>\n",
       "      <td>4.0</td>\n",
       "      <td>37.00</td>\n",
       "    </tr>\n",
       "    <tr>\n",
       "      <th>168</th>\n",
       "      <td>BMW X5 xDrive 30d</td>\n",
       "      <td>Mumbai</td>\n",
       "      <td>2015</td>\n",
       "      <td>41000</td>\n",
       "      <td>Diesel</td>\n",
       "      <td>Automatic</td>\n",
       "      <td>First</td>\n",
       "      <td>15.3 kmpl</td>\n",
       "      <td>2993 CC</td>\n",
       "      <td>258 bhp</td>\n",
       "      <td>5.0</td>\n",
       "      <td>45.00</td>\n",
       "    </tr>\n",
       "    <tr>\n",
       "      <th>...</th>\n",
       "      <td>...</td>\n",
       "      <td>...</td>\n",
       "      <td>...</td>\n",
       "      <td>...</td>\n",
       "      <td>...</td>\n",
       "      <td>...</td>\n",
       "      <td>...</td>\n",
       "      <td>...</td>\n",
       "      <td>...</td>\n",
       "      <td>...</td>\n",
       "      <td>...</td>\n",
       "      <td>...</td>\n",
       "    </tr>\n",
       "    <tr>\n",
       "      <th>5919</th>\n",
       "      <td>Jaguar F Type 5.0 V8 S</td>\n",
       "      <td>Hyderabad</td>\n",
       "      <td>2015</td>\n",
       "      <td>8000</td>\n",
       "      <td>Petrol</td>\n",
       "      <td>Automatic</td>\n",
       "      <td>First</td>\n",
       "      <td>12.5 kmpl</td>\n",
       "      <td>5000 CC</td>\n",
       "      <td>488.1 bhp</td>\n",
       "      <td>2.0</td>\n",
       "      <td>100.00</td>\n",
       "    </tr>\n",
       "    <tr>\n",
       "      <th>5921</th>\n",
       "      <td>Mercedes-Benz E-Class 2015-2017 E250 CDI Avant...</td>\n",
       "      <td>Mumbai</td>\n",
       "      <td>2016</td>\n",
       "      <td>21000</td>\n",
       "      <td>Diesel</td>\n",
       "      <td>Automatic</td>\n",
       "      <td>First</td>\n",
       "      <td>13.0 kmpl</td>\n",
       "      <td>2143 CC</td>\n",
       "      <td>204 bhp</td>\n",
       "      <td>5.0</td>\n",
       "      <td>36.00</td>\n",
       "    </tr>\n",
       "    <tr>\n",
       "      <th>5927</th>\n",
       "      <td>Audi Q5 3.0 TDI Quattro Technology</td>\n",
       "      <td>Coimbatore</td>\n",
       "      <td>2018</td>\n",
       "      <td>29091</td>\n",
       "      <td>Diesel</td>\n",
       "      <td>Automatic</td>\n",
       "      <td>First</td>\n",
       "      <td>13.22 kmpl</td>\n",
       "      <td>2967 CC</td>\n",
       "      <td>241.4 bhp</td>\n",
       "      <td>5.0</td>\n",
       "      <td>45.52</td>\n",
       "    </tr>\n",
       "    <tr>\n",
       "      <th>5946</th>\n",
       "      <td>BMW 5 Series 2013-2017 530d M Sport</td>\n",
       "      <td>Bangalore</td>\n",
       "      <td>2016</td>\n",
       "      <td>16000</td>\n",
       "      <td>Diesel</td>\n",
       "      <td>Automatic</td>\n",
       "      <td>First</td>\n",
       "      <td>14.69 kmpl</td>\n",
       "      <td>2993 CC</td>\n",
       "      <td>258 bhp</td>\n",
       "      <td>5.0</td>\n",
       "      <td>48.00</td>\n",
       "    </tr>\n",
       "    <tr>\n",
       "      <th>6008</th>\n",
       "      <td>Porsche Panamera Diesel</td>\n",
       "      <td>Hyderabad</td>\n",
       "      <td>2013</td>\n",
       "      <td>40000</td>\n",
       "      <td>Diesel</td>\n",
       "      <td>Automatic</td>\n",
       "      <td>Second</td>\n",
       "      <td>17.85 kmpl</td>\n",
       "      <td>2967 CC</td>\n",
       "      <td>300 bhp</td>\n",
       "      <td>4.0</td>\n",
       "      <td>45.00</td>\n",
       "    </tr>\n",
       "  </tbody>\n",
       "</table>\n",
       "<p>301 rows × 12 columns</p>\n",
       "</div>"
      ],
      "text/plain": [
       "                                                   Name    Location  Year  \\\n",
       "67             Mercedes-Benz C-Class Progressive C 220d  Coimbatore  2019   \n",
       "92                     Audi A6 2011-2015 35 TDI Premium  Coimbatore  2018   \n",
       "134                            Mercedes-Benz SLC 43 AMG     Kolkata  2017   \n",
       "148                                      Audi RS5 Coupe      Mumbai  2013   \n",
       "168                                   BMW X5 xDrive 30d      Mumbai  2015   \n",
       "...                                                 ...         ...   ...   \n",
       "5919                             Jaguar F Type 5.0 V8 S   Hyderabad  2015   \n",
       "5921  Mercedes-Benz E-Class 2015-2017 E250 CDI Avant...      Mumbai  2016   \n",
       "5927                 Audi Q5 3.0 TDI Quattro Technology  Coimbatore  2018   \n",
       "5946                BMW 5 Series 2013-2017 530d M Sport   Bangalore  2016   \n",
       "6008                            Porsche Panamera Diesel   Hyderabad  2013   \n",
       "\n",
       "      Kilometers_Driven Fuel_Type Transmission Owner_Type     Mileage  \\\n",
       "67                15369    Diesel    Automatic      First    0.0 kmpl   \n",
       "92                48367    Diesel    Automatic      First  17.68 kmpl   \n",
       "134               13372    Petrol    Automatic      First   19.0 kmpl   \n",
       "148               23000    Petrol    Automatic      First  11.05 kmpl   \n",
       "168               41000    Diesel    Automatic      First   15.3 kmpl   \n",
       "...                 ...       ...          ...        ...         ...   \n",
       "5919               8000    Petrol    Automatic      First   12.5 kmpl   \n",
       "5921              21000    Diesel    Automatic      First   13.0 kmpl   \n",
       "5927              29091    Diesel    Automatic      First  13.22 kmpl   \n",
       "5946              16000    Diesel    Automatic      First  14.69 kmpl   \n",
       "6008              40000    Diesel    Automatic     Second  17.85 kmpl   \n",
       "\n",
       "       Engine       Power  Seats   Price  \n",
       "67    1950 CC     194 bhp    5.0   35.67  \n",
       "92    1968 CC  174.33 bhp    5.0   39.58  \n",
       "134   2996 CC  362.07 bhp    2.0   54.00  \n",
       "148   2894 CC     444 bhp    4.0   37.00  \n",
       "168   2993 CC     258 bhp    5.0   45.00  \n",
       "...       ...         ...    ...     ...  \n",
       "5919  5000 CC   488.1 bhp    2.0  100.00  \n",
       "5921  2143 CC     204 bhp    5.0   36.00  \n",
       "5927  2967 CC   241.4 bhp    5.0   45.52  \n",
       "5946  2993 CC     258 bhp    5.0   48.00  \n",
       "6008  2967 CC     300 bhp    4.0   45.00  \n",
       "\n",
       "[301 rows x 12 columns]"
      ]
     },
     "execution_count": 4,
     "metadata": {},
     "output_type": "execute_result"
    }
   ],
   "source": [
    "s_data[s_data[\"Price\"] > max_threshold]"
   ]
  },
  {
   "cell_type": "code",
   "execution_count": 5,
   "metadata": {},
   "outputs": [
    {
     "data": {
      "text/plain": [
       "1.7"
      ]
     },
     "execution_count": 5,
     "metadata": {},
     "output_type": "execute_result"
    }
   ],
   "source": [
    "#calculating the minimum value (min_thresold) i.e the values lower than the min_thresold will be considered as Outlier\n",
    "min_threshold=s_data[\"Price\"].quantile(0.05)\n",
    "min_threshold"
   ]
  },
  {
   "cell_type": "code",
   "execution_count": 6,
   "metadata": {},
   "outputs": [
    {
     "data": {
      "text/html": [
       "<div>\n",
       "<style scoped>\n",
       "    .dataframe tbody tr th:only-of-type {\n",
       "        vertical-align: middle;\n",
       "    }\n",
       "\n",
       "    .dataframe tbody tr th {\n",
       "        vertical-align: top;\n",
       "    }\n",
       "\n",
       "    .dataframe thead th {\n",
       "        text-align: right;\n",
       "    }\n",
       "</style>\n",
       "<table border=\"1\" class=\"dataframe\">\n",
       "  <thead>\n",
       "    <tr style=\"text-align: right;\">\n",
       "      <th></th>\n",
       "      <th>Name</th>\n",
       "      <th>Location</th>\n",
       "      <th>Year</th>\n",
       "      <th>Kilometers_Driven</th>\n",
       "      <th>Fuel_Type</th>\n",
       "      <th>Transmission</th>\n",
       "      <th>Owner_Type</th>\n",
       "      <th>Mileage</th>\n",
       "      <th>Engine</th>\n",
       "      <th>Power</th>\n",
       "      <th>Seats</th>\n",
       "      <th>Price</th>\n",
       "    </tr>\n",
       "  </thead>\n",
       "  <tbody>\n",
       "    <tr>\n",
       "      <th>40</th>\n",
       "      <td>Maruti Alto LXi</td>\n",
       "      <td>Delhi</td>\n",
       "      <td>2008</td>\n",
       "      <td>90000</td>\n",
       "      <td>Petrol</td>\n",
       "      <td>Manual</td>\n",
       "      <td>Second</td>\n",
       "      <td>19.7 kmpl</td>\n",
       "      <td>796 CC</td>\n",
       "      <td>46.3 bhp</td>\n",
       "      <td>5.0</td>\n",
       "      <td>1.25</td>\n",
       "    </tr>\n",
       "    <tr>\n",
       "      <th>41</th>\n",
       "      <td>Tata Nano LX SE</td>\n",
       "      <td>Kochi</td>\n",
       "      <td>2014</td>\n",
       "      <td>19698</td>\n",
       "      <td>Petrol</td>\n",
       "      <td>Manual</td>\n",
       "      <td>First</td>\n",
       "      <td>25.4 kmpl</td>\n",
       "      <td>624 CC</td>\n",
       "      <td>37.5 bhp</td>\n",
       "      <td>4.0</td>\n",
       "      <td>1.53</td>\n",
       "    </tr>\n",
       "    <tr>\n",
       "      <th>79</th>\n",
       "      <td>Hyundai Santro Xing XL</td>\n",
       "      <td>Hyderabad</td>\n",
       "      <td>2005</td>\n",
       "      <td>87591</td>\n",
       "      <td>Petrol</td>\n",
       "      <td>Manual</td>\n",
       "      <td>First</td>\n",
       "      <td>0.0 kmpl</td>\n",
       "      <td>1086 CC</td>\n",
       "      <td>null bhp</td>\n",
       "      <td>5.0</td>\n",
       "      <td>1.30</td>\n",
       "    </tr>\n",
       "    <tr>\n",
       "      <th>120</th>\n",
       "      <td>Hyundai Santro Xing XL eRLX Euro III</td>\n",
       "      <td>Mumbai</td>\n",
       "      <td>2005</td>\n",
       "      <td>102000</td>\n",
       "      <td>Petrol</td>\n",
       "      <td>Manual</td>\n",
       "      <td>Second</td>\n",
       "      <td>17.0 kmpl</td>\n",
       "      <td>1086 CC</td>\n",
       "      <td>null bhp</td>\n",
       "      <td>5.0</td>\n",
       "      <td>0.85</td>\n",
       "    </tr>\n",
       "    <tr>\n",
       "      <th>136</th>\n",
       "      <td>Maruti Alto LXi BSIII</td>\n",
       "      <td>Chennai</td>\n",
       "      <td>2010</td>\n",
       "      <td>94385</td>\n",
       "      <td>Petrol</td>\n",
       "      <td>Manual</td>\n",
       "      <td>Second</td>\n",
       "      <td>19.7 kmpl</td>\n",
       "      <td>796 CC</td>\n",
       "      <td>46.3 bhp</td>\n",
       "      <td>5.0</td>\n",
       "      <td>1.60</td>\n",
       "    </tr>\n",
       "    <tr>\n",
       "      <th>...</th>\n",
       "      <td>...</td>\n",
       "      <td>...</td>\n",
       "      <td>...</td>\n",
       "      <td>...</td>\n",
       "      <td>...</td>\n",
       "      <td>...</td>\n",
       "      <td>...</td>\n",
       "      <td>...</td>\n",
       "      <td>...</td>\n",
       "      <td>...</td>\n",
       "      <td>...</td>\n",
       "      <td>...</td>\n",
       "    </tr>\n",
       "    <tr>\n",
       "      <th>5972</th>\n",
       "      <td>Hyundai Santro Xing GL</td>\n",
       "      <td>Mumbai</td>\n",
       "      <td>2008</td>\n",
       "      <td>65000</td>\n",
       "      <td>Petrol</td>\n",
       "      <td>Manual</td>\n",
       "      <td>Second</td>\n",
       "      <td>0.0 kmpl</td>\n",
       "      <td>1086 CC</td>\n",
       "      <td>62 bhp</td>\n",
       "      <td>5.0</td>\n",
       "      <td>1.39</td>\n",
       "    </tr>\n",
       "    <tr>\n",
       "      <th>5976</th>\n",
       "      <td>Maruti Wagon R LX BSIII</td>\n",
       "      <td>Delhi</td>\n",
       "      <td>2006</td>\n",
       "      <td>65771</td>\n",
       "      <td>Petrol</td>\n",
       "      <td>Manual</td>\n",
       "      <td>Second</td>\n",
       "      <td>17.3 kmpl</td>\n",
       "      <td>1061 CC</td>\n",
       "      <td>64 bhp</td>\n",
       "      <td>5.0</td>\n",
       "      <td>0.75</td>\n",
       "    </tr>\n",
       "    <tr>\n",
       "      <th>5977</th>\n",
       "      <td>Tata Indica LEI</td>\n",
       "      <td>Pune</td>\n",
       "      <td>2006</td>\n",
       "      <td>78000</td>\n",
       "      <td>Petrol</td>\n",
       "      <td>Manual</td>\n",
       "      <td>Second</td>\n",
       "      <td>13.5 kmpl</td>\n",
       "      <td>1405 CC</td>\n",
       "      <td>60 bhp</td>\n",
       "      <td>5.0</td>\n",
       "      <td>1.00</td>\n",
       "    </tr>\n",
       "    <tr>\n",
       "      <th>5986</th>\n",
       "      <td>Hyundai Getz GLS</td>\n",
       "      <td>Jaipur</td>\n",
       "      <td>2005</td>\n",
       "      <td>100000</td>\n",
       "      <td>Petrol</td>\n",
       "      <td>Manual</td>\n",
       "      <td>Second</td>\n",
       "      <td>15.3 kmpl</td>\n",
       "      <td>1341 CC</td>\n",
       "      <td>83 bhp</td>\n",
       "      <td>5.0</td>\n",
       "      <td>0.85</td>\n",
       "    </tr>\n",
       "    <tr>\n",
       "      <th>5990</th>\n",
       "      <td>Tata New Safari DICOR 2.2 VX 4x2</td>\n",
       "      <td>Pune</td>\n",
       "      <td>2008</td>\n",
       "      <td>86000</td>\n",
       "      <td>Diesel</td>\n",
       "      <td>Manual</td>\n",
       "      <td>Third</td>\n",
       "      <td>13.93 kmpl</td>\n",
       "      <td>2179 CC</td>\n",
       "      <td>138 bhp</td>\n",
       "      <td>7.0</td>\n",
       "      <td>0.60</td>\n",
       "    </tr>\n",
       "  </tbody>\n",
       "</table>\n",
       "<p>295 rows × 12 columns</p>\n",
       "</div>"
      ],
      "text/plain": [
       "                                      Name   Location  Year  \\\n",
       "40                         Maruti Alto LXi      Delhi  2008   \n",
       "41                         Tata Nano LX SE      Kochi  2014   \n",
       "79                  Hyundai Santro Xing XL  Hyderabad  2005   \n",
       "120   Hyundai Santro Xing XL eRLX Euro III     Mumbai  2005   \n",
       "136                  Maruti Alto LXi BSIII    Chennai  2010   \n",
       "...                                    ...        ...   ...   \n",
       "5972                Hyundai Santro Xing GL     Mumbai  2008   \n",
       "5976               Maruti Wagon R LX BSIII      Delhi  2006   \n",
       "5977                       Tata Indica LEI       Pune  2006   \n",
       "5986                      Hyundai Getz GLS     Jaipur  2005   \n",
       "5990      Tata New Safari DICOR 2.2 VX 4x2       Pune  2008   \n",
       "\n",
       "      Kilometers_Driven Fuel_Type Transmission Owner_Type     Mileage  \\\n",
       "40                90000    Petrol       Manual     Second   19.7 kmpl   \n",
       "41                19698    Petrol       Manual      First   25.4 kmpl   \n",
       "79                87591    Petrol       Manual      First    0.0 kmpl   \n",
       "120              102000    Petrol       Manual     Second   17.0 kmpl   \n",
       "136               94385    Petrol       Manual     Second   19.7 kmpl   \n",
       "...                 ...       ...          ...        ...         ...   \n",
       "5972              65000    Petrol       Manual     Second    0.0 kmpl   \n",
       "5976              65771    Petrol       Manual     Second   17.3 kmpl   \n",
       "5977              78000    Petrol       Manual     Second   13.5 kmpl   \n",
       "5986             100000    Petrol       Manual     Second   15.3 kmpl   \n",
       "5990              86000    Diesel       Manual      Third  13.93 kmpl   \n",
       "\n",
       "       Engine     Power  Seats  Price  \n",
       "40     796 CC  46.3 bhp    5.0   1.25  \n",
       "41     624 CC  37.5 bhp    4.0   1.53  \n",
       "79    1086 CC  null bhp    5.0   1.30  \n",
       "120   1086 CC  null bhp    5.0   0.85  \n",
       "136    796 CC  46.3 bhp    5.0   1.60  \n",
       "...       ...       ...    ...    ...  \n",
       "5972  1086 CC    62 bhp    5.0   1.39  \n",
       "5976  1061 CC    64 bhp    5.0   0.75  \n",
       "5977  1405 CC    60 bhp    5.0   1.00  \n",
       "5986  1341 CC    83 bhp    5.0   0.85  \n",
       "5990  2179 CC   138 bhp    7.0   0.60  \n",
       "\n",
       "[295 rows x 12 columns]"
      ]
     },
     "execution_count": 6,
     "metadata": {},
     "output_type": "execute_result"
    }
   ],
   "source": [
    "s_data[s_data[\"Price\"]<min_threshold]"
   ]
  },
  {
   "cell_type": "markdown",
   "metadata": {},
   "source": [
    "# 2. Null values"
   ]
  },
  {
   "cell_type": "code",
   "execution_count": 7,
   "metadata": {},
   "outputs": [
    {
     "data": {
      "text/plain": [
       "Name                  0\n",
       "Location              0\n",
       "Year                  0\n",
       "Kilometers_Driven     0\n",
       "Fuel_Type             0\n",
       "Transmission          0\n",
       "Owner_Type            0\n",
       "Mileage               2\n",
       "Engine               36\n",
       "Power                36\n",
       "Seats                42\n",
       "Price                 0\n",
       "dtype: int64"
      ]
     },
     "execution_count": 7,
     "metadata": {},
     "output_type": "execute_result"
    }
   ],
   "source": [
    "s_data.isna().sum()"
   ]
  },
  {
   "cell_type": "code",
   "execution_count": 8,
   "metadata": {},
   "outputs": [],
   "source": [
    "s_data['Mileage'] = s_data['Mileage'].apply(lambda x : str(x).split(' ')[0]).astype(float)\n",
    "s_data['Engine'] = s_data['Engine'].apply(lambda x : str(x).split(\" \")[0]).astype(float)\n",
    "s_data['Power'] = s_data['Power'].replace('null bhp','0 bhp').apply(lambda x : str(x).split(' ')[0]).astype(float)"
   ]
  },
  {
   "cell_type": "code",
   "execution_count": 9,
   "metadata": {},
   "outputs": [],
   "source": [
    "s_data['Car_Brand1'] = s_data['Name'].apply(lambda x: ' '.join(x.split(' ')[:2]))"
   ]
  },
  {
   "cell_type": "code",
   "execution_count": 10,
   "metadata": {},
   "outputs": [],
   "source": [
    "s_data['Mileage'] = s_data.groupby(['Car_Brand1']).transform(lambda x: x.fillna(x.median()))['Mileage']\n",
    "s_data['Engine'] = s_data.groupby(['Car_Brand1']).transform(lambda x: x.fillna(x.median()))['Engine']\n",
    "s_data['Power'] = s_data.groupby(['Car_Brand1']).transform(lambda x: x.fillna(x.median()))['Power']\n",
    "s_data['Seats'] = s_data.groupby(['Car_Brand1']).transform(lambda x: x.fillna(x.median()))['Seats']"
   ]
  },
  {
   "cell_type": "code",
   "execution_count": 11,
   "metadata": {},
   "outputs": [
    {
     "data": {
      "text/plain": [
       "Name                 0\n",
       "Location             0\n",
       "Year                 0\n",
       "Kilometers_Driven    0\n",
       "Fuel_Type            0\n",
       "Transmission         0\n",
       "Owner_Type           0\n",
       "Mileage              2\n",
       "Engine               0\n",
       "Power                0\n",
       "Seats                3\n",
       "Price                0\n",
       "Car_Brand1           0\n",
       "dtype: int64"
      ]
     },
     "execution_count": 11,
     "metadata": {},
     "output_type": "execute_result"
    }
   ],
   "source": [
    "s_data.isnull().sum()"
   ]
  },
  {
   "cell_type": "code",
   "execution_count": 12,
   "metadata": {},
   "outputs": [
    {
     "name": "stdout",
     "output_type": "stream",
     "text": [
      "Shape of train data after dropping Seats: (6016, 13)\n"
     ]
    }
   ],
   "source": [
    "s_data=s_data[s_data['Seats'].notna()]\n",
    "print('Shape of train data after dropping Seats:',s_data.shape)"
   ]
  },
  {
   "cell_type": "code",
   "execution_count": 13,
   "metadata": {},
   "outputs": [
    {
     "name": "stdout",
     "output_type": "stream",
     "text": [
      "Shape of train data after dropping Mileage: (6014, 13)\n"
     ]
    }
   ],
   "source": [
    "s_data=s_data[s_data['Mileage'].notna()]\n",
    "print('Shape of train data after dropping Mileage:',s_data.shape)"
   ]
  },
  {
   "cell_type": "code",
   "execution_count": 14,
   "metadata": {},
   "outputs": [
    {
     "data": {
      "text/plain": [
       "Name                 0\n",
       "Location             0\n",
       "Year                 0\n",
       "Kilometers_Driven    0\n",
       "Fuel_Type            0\n",
       "Transmission         0\n",
       "Owner_Type           0\n",
       "Mileage              0\n",
       "Engine               0\n",
       "Power                0\n",
       "Seats                0\n",
       "Price                0\n",
       "Car_Brand1           0\n",
       "dtype: int64"
      ]
     },
     "execution_count": 14,
     "metadata": {},
     "output_type": "execute_result"
    }
   ],
   "source": [
    "s_data.isnull().sum()"
   ]
  },
  {
   "cell_type": "markdown",
   "metadata": {},
   "source": [
    "# 3. Exploratory Data Analysis(EDA)"
   ]
  },
  {
   "cell_type": "code",
   "execution_count": 15,
   "metadata": {},
   "outputs": [
    {
     "data": {
      "text/html": [
       "<div>\n",
       "<style scoped>\n",
       "    .dataframe tbody tr th:only-of-type {\n",
       "        vertical-align: middle;\n",
       "    }\n",
       "\n",
       "    .dataframe tbody tr th {\n",
       "        vertical-align: top;\n",
       "    }\n",
       "\n",
       "    .dataframe thead th {\n",
       "        text-align: right;\n",
       "    }\n",
       "</style>\n",
       "<table border=\"1\" class=\"dataframe\">\n",
       "  <thead>\n",
       "    <tr style=\"text-align: right;\">\n",
       "      <th></th>\n",
       "      <th>Name</th>\n",
       "      <th>Location</th>\n",
       "      <th>Year</th>\n",
       "      <th>Kilometers_Driven</th>\n",
       "      <th>Fuel_Type</th>\n",
       "      <th>Transmission</th>\n",
       "      <th>Owner_Type</th>\n",
       "      <th>Mileage</th>\n",
       "      <th>Engine</th>\n",
       "      <th>Power</th>\n",
       "      <th>Seats</th>\n",
       "      <th>Price</th>\n",
       "      <th>Car_Brand1</th>\n",
       "    </tr>\n",
       "  </thead>\n",
       "  <tbody>\n",
       "    <tr>\n",
       "      <th>0</th>\n",
       "      <td>Maruti Wagon R LXI CNG</td>\n",
       "      <td>Mumbai</td>\n",
       "      <td>2010</td>\n",
       "      <td>72000</td>\n",
       "      <td>CNG</td>\n",
       "      <td>Manual</td>\n",
       "      <td>First</td>\n",
       "      <td>26.60</td>\n",
       "      <td>998.0</td>\n",
       "      <td>58.16</td>\n",
       "      <td>5.0</td>\n",
       "      <td>1.75</td>\n",
       "      <td>Maruti Wagon</td>\n",
       "    </tr>\n",
       "    <tr>\n",
       "      <th>1</th>\n",
       "      <td>Hyundai Creta 1.6 CRDi SX Option</td>\n",
       "      <td>Pune</td>\n",
       "      <td>2015</td>\n",
       "      <td>41000</td>\n",
       "      <td>Diesel</td>\n",
       "      <td>Manual</td>\n",
       "      <td>First</td>\n",
       "      <td>19.67</td>\n",
       "      <td>1582.0</td>\n",
       "      <td>126.20</td>\n",
       "      <td>5.0</td>\n",
       "      <td>12.50</td>\n",
       "      <td>Hyundai Creta</td>\n",
       "    </tr>\n",
       "    <tr>\n",
       "      <th>2</th>\n",
       "      <td>Honda Jazz V</td>\n",
       "      <td>Chennai</td>\n",
       "      <td>2011</td>\n",
       "      <td>46000</td>\n",
       "      <td>Petrol</td>\n",
       "      <td>Manual</td>\n",
       "      <td>First</td>\n",
       "      <td>18.20</td>\n",
       "      <td>1199.0</td>\n",
       "      <td>88.70</td>\n",
       "      <td>5.0</td>\n",
       "      <td>4.50</td>\n",
       "      <td>Honda Jazz</td>\n",
       "    </tr>\n",
       "    <tr>\n",
       "      <th>3</th>\n",
       "      <td>Maruti Ertiga VDI</td>\n",
       "      <td>Chennai</td>\n",
       "      <td>2012</td>\n",
       "      <td>87000</td>\n",
       "      <td>Diesel</td>\n",
       "      <td>Manual</td>\n",
       "      <td>First</td>\n",
       "      <td>20.77</td>\n",
       "      <td>1248.0</td>\n",
       "      <td>88.76</td>\n",
       "      <td>7.0</td>\n",
       "      <td>6.00</td>\n",
       "      <td>Maruti Ertiga</td>\n",
       "    </tr>\n",
       "    <tr>\n",
       "      <th>4</th>\n",
       "      <td>Audi A4 New 2.0 TDI Multitronic</td>\n",
       "      <td>Coimbatore</td>\n",
       "      <td>2013</td>\n",
       "      <td>40670</td>\n",
       "      <td>Diesel</td>\n",
       "      <td>Automatic</td>\n",
       "      <td>Second</td>\n",
       "      <td>15.20</td>\n",
       "      <td>1968.0</td>\n",
       "      <td>140.80</td>\n",
       "      <td>5.0</td>\n",
       "      <td>17.74</td>\n",
       "      <td>Audi A4</td>\n",
       "    </tr>\n",
       "  </tbody>\n",
       "</table>\n",
       "</div>"
      ],
      "text/plain": [
       "                               Name    Location  Year  Kilometers_Driven  \\\n",
       "0            Maruti Wagon R LXI CNG      Mumbai  2010              72000   \n",
       "1  Hyundai Creta 1.6 CRDi SX Option        Pune  2015              41000   \n",
       "2                      Honda Jazz V     Chennai  2011              46000   \n",
       "3                 Maruti Ertiga VDI     Chennai  2012              87000   \n",
       "4   Audi A4 New 2.0 TDI Multitronic  Coimbatore  2013              40670   \n",
       "\n",
       "  Fuel_Type Transmission Owner_Type  Mileage  Engine   Power  Seats  Price  \\\n",
       "0       CNG       Manual      First    26.60   998.0   58.16    5.0   1.75   \n",
       "1    Diesel       Manual      First    19.67  1582.0  126.20    5.0  12.50   \n",
       "2    Petrol       Manual      First    18.20  1199.0   88.70    5.0   4.50   \n",
       "3    Diesel       Manual      First    20.77  1248.0   88.76    7.0   6.00   \n",
       "4    Diesel    Automatic     Second    15.20  1968.0  140.80    5.0  17.74   \n",
       "\n",
       "      Car_Brand1  \n",
       "0   Maruti Wagon  \n",
       "1  Hyundai Creta  \n",
       "2     Honda Jazz  \n",
       "3  Maruti Ertiga  \n",
       "4        Audi A4  "
      ]
     },
     "execution_count": 15,
     "metadata": {},
     "output_type": "execute_result"
    }
   ],
   "source": [
    "# CHECKING THE FIRST 5 ROWS OF THE DATA SET.\n",
    "s_data.head()"
   ]
  },
  {
   "cell_type": "code",
   "execution_count": 16,
   "metadata": {},
   "outputs": [
    {
     "data": {
      "text/html": [
       "<div>\n",
       "<style scoped>\n",
       "    .dataframe tbody tr th:only-of-type {\n",
       "        vertical-align: middle;\n",
       "    }\n",
       "\n",
       "    .dataframe tbody tr th {\n",
       "        vertical-align: top;\n",
       "    }\n",
       "\n",
       "    .dataframe thead th {\n",
       "        text-align: right;\n",
       "    }\n",
       "</style>\n",
       "<table border=\"1\" class=\"dataframe\">\n",
       "  <thead>\n",
       "    <tr style=\"text-align: right;\">\n",
       "      <th></th>\n",
       "      <th>Name</th>\n",
       "      <th>Location</th>\n",
       "      <th>Year</th>\n",
       "      <th>Kilometers_Driven</th>\n",
       "      <th>Fuel_Type</th>\n",
       "      <th>Transmission</th>\n",
       "      <th>Owner_Type</th>\n",
       "      <th>Mileage</th>\n",
       "      <th>Engine</th>\n",
       "      <th>Power</th>\n",
       "      <th>Seats</th>\n",
       "      <th>Price</th>\n",
       "      <th>Car_Brand1</th>\n",
       "    </tr>\n",
       "  </thead>\n",
       "  <tbody>\n",
       "    <tr>\n",
       "      <th>6014</th>\n",
       "      <td>Maruti Swift VDI</td>\n",
       "      <td>Delhi</td>\n",
       "      <td>2014</td>\n",
       "      <td>27365</td>\n",
       "      <td>Diesel</td>\n",
       "      <td>Manual</td>\n",
       "      <td>First</td>\n",
       "      <td>28.40</td>\n",
       "      <td>1248.0</td>\n",
       "      <td>74.0</td>\n",
       "      <td>5.0</td>\n",
       "      <td>4.75</td>\n",
       "      <td>Maruti Swift</td>\n",
       "    </tr>\n",
       "    <tr>\n",
       "      <th>6015</th>\n",
       "      <td>Hyundai Xcent 1.1 CRDi S</td>\n",
       "      <td>Jaipur</td>\n",
       "      <td>2015</td>\n",
       "      <td>100000</td>\n",
       "      <td>Diesel</td>\n",
       "      <td>Manual</td>\n",
       "      <td>First</td>\n",
       "      <td>24.40</td>\n",
       "      <td>1120.0</td>\n",
       "      <td>71.0</td>\n",
       "      <td>5.0</td>\n",
       "      <td>4.00</td>\n",
       "      <td>Hyundai Xcent</td>\n",
       "    </tr>\n",
       "    <tr>\n",
       "      <th>6016</th>\n",
       "      <td>Mahindra Xylo D4 BSIV</td>\n",
       "      <td>Jaipur</td>\n",
       "      <td>2012</td>\n",
       "      <td>55000</td>\n",
       "      <td>Diesel</td>\n",
       "      <td>Manual</td>\n",
       "      <td>Second</td>\n",
       "      <td>14.00</td>\n",
       "      <td>2498.0</td>\n",
       "      <td>112.0</td>\n",
       "      <td>8.0</td>\n",
       "      <td>2.90</td>\n",
       "      <td>Mahindra Xylo</td>\n",
       "    </tr>\n",
       "    <tr>\n",
       "      <th>6017</th>\n",
       "      <td>Maruti Wagon R VXI</td>\n",
       "      <td>Kolkata</td>\n",
       "      <td>2013</td>\n",
       "      <td>46000</td>\n",
       "      <td>Petrol</td>\n",
       "      <td>Manual</td>\n",
       "      <td>First</td>\n",
       "      <td>18.90</td>\n",
       "      <td>998.0</td>\n",
       "      <td>67.1</td>\n",
       "      <td>5.0</td>\n",
       "      <td>2.65</td>\n",
       "      <td>Maruti Wagon</td>\n",
       "    </tr>\n",
       "    <tr>\n",
       "      <th>6018</th>\n",
       "      <td>Chevrolet Beat Diesel</td>\n",
       "      <td>Hyderabad</td>\n",
       "      <td>2011</td>\n",
       "      <td>47000</td>\n",
       "      <td>Diesel</td>\n",
       "      <td>Manual</td>\n",
       "      <td>First</td>\n",
       "      <td>25.44</td>\n",
       "      <td>936.0</td>\n",
       "      <td>57.6</td>\n",
       "      <td>5.0</td>\n",
       "      <td>2.50</td>\n",
       "      <td>Chevrolet Beat</td>\n",
       "    </tr>\n",
       "  </tbody>\n",
       "</table>\n",
       "</div>"
      ],
      "text/plain": [
       "                          Name   Location  Year  Kilometers_Driven Fuel_Type  \\\n",
       "6014          Maruti Swift VDI      Delhi  2014              27365    Diesel   \n",
       "6015  Hyundai Xcent 1.1 CRDi S     Jaipur  2015             100000    Diesel   \n",
       "6016     Mahindra Xylo D4 BSIV     Jaipur  2012              55000    Diesel   \n",
       "6017        Maruti Wagon R VXI    Kolkata  2013              46000    Petrol   \n",
       "6018     Chevrolet Beat Diesel  Hyderabad  2011              47000    Diesel   \n",
       "\n",
       "     Transmission Owner_Type  Mileage  Engine  Power  Seats  Price  \\\n",
       "6014       Manual      First    28.40  1248.0   74.0    5.0   4.75   \n",
       "6015       Manual      First    24.40  1120.0   71.0    5.0   4.00   \n",
       "6016       Manual     Second    14.00  2498.0  112.0    8.0   2.90   \n",
       "6017       Manual      First    18.90   998.0   67.1    5.0   2.65   \n",
       "6018       Manual      First    25.44   936.0   57.6    5.0   2.50   \n",
       "\n",
       "          Car_Brand1  \n",
       "6014    Maruti Swift  \n",
       "6015   Hyundai Xcent  \n",
       "6016   Mahindra Xylo  \n",
       "6017    Maruti Wagon  \n",
       "6018  Chevrolet Beat  "
      ]
     },
     "execution_count": 16,
     "metadata": {},
     "output_type": "execute_result"
    }
   ],
   "source": [
    "#CHECKING THE LAST 5 ROWS OF THE DATASET\n",
    "s_data.tail()"
   ]
  },
  {
   "cell_type": "code",
   "execution_count": 17,
   "metadata": {},
   "outputs": [
    {
     "data": {
      "text/plain": [
       "(6014, 13)"
      ]
     },
     "execution_count": 17,
     "metadata": {},
     "output_type": "execute_result"
    }
   ],
   "source": [
    "#CHECKING THE SHAPE OF THE DATASET\n",
    "s_data.shape"
   ]
  },
  {
   "cell_type": "code",
   "execution_count": 18,
   "metadata": {},
   "outputs": [
    {
     "data": {
      "text/html": [
       "<div>\n",
       "<style scoped>\n",
       "    .dataframe tbody tr th:only-of-type {\n",
       "        vertical-align: middle;\n",
       "    }\n",
       "\n",
       "    .dataframe tbody tr th {\n",
       "        vertical-align: top;\n",
       "    }\n",
       "\n",
       "    .dataframe thead th {\n",
       "        text-align: right;\n",
       "    }\n",
       "</style>\n",
       "<table border=\"1\" class=\"dataframe\">\n",
       "  <thead>\n",
       "    <tr style=\"text-align: right;\">\n",
       "      <th></th>\n",
       "      <th>Year</th>\n",
       "      <th>Kilometers_Driven</th>\n",
       "      <th>Mileage</th>\n",
       "      <th>Engine</th>\n",
       "      <th>Power</th>\n",
       "      <th>Seats</th>\n",
       "      <th>Price</th>\n",
       "    </tr>\n",
       "  </thead>\n",
       "  <tbody>\n",
       "    <tr>\n",
       "      <th>count</th>\n",
       "      <td>6014.000000</td>\n",
       "      <td>6.014000e+03</td>\n",
       "      <td>6014.000000</td>\n",
       "      <td>6014.000000</td>\n",
       "      <td>6014.000000</td>\n",
       "      <td>6014.000000</td>\n",
       "      <td>6014.000000</td>\n",
       "    </tr>\n",
       "    <tr>\n",
       "      <th>mean</th>\n",
       "      <td>2013.360492</td>\n",
       "      <td>5.874714e+04</td>\n",
       "      <td>18.134280</td>\n",
       "      <td>1620.727802</td>\n",
       "      <td>111.183741</td>\n",
       "      <td>5.277353</td>\n",
       "      <td>9.482112</td>\n",
       "    </tr>\n",
       "    <tr>\n",
       "      <th>std</th>\n",
       "      <td>3.269035</td>\n",
       "      <td>9.130613e+04</td>\n",
       "      <td>4.583331</td>\n",
       "      <td>600.287096</td>\n",
       "      <td>55.494266</td>\n",
       "      <td>0.806940</td>\n",
       "      <td>11.191117</td>\n",
       "    </tr>\n",
       "    <tr>\n",
       "      <th>min</th>\n",
       "      <td>1998.000000</td>\n",
       "      <td>1.710000e+02</td>\n",
       "      <td>0.000000</td>\n",
       "      <td>624.000000</td>\n",
       "      <td>0.000000</td>\n",
       "      <td>0.000000</td>\n",
       "      <td>0.440000</td>\n",
       "    </tr>\n",
       "    <tr>\n",
       "      <th>25%</th>\n",
       "      <td>2011.000000</td>\n",
       "      <td>3.400000e+04</td>\n",
       "      <td>15.170000</td>\n",
       "      <td>1198.000000</td>\n",
       "      <td>74.000000</td>\n",
       "      <td>5.000000</td>\n",
       "      <td>3.500000</td>\n",
       "    </tr>\n",
       "    <tr>\n",
       "      <th>50%</th>\n",
       "      <td>2014.000000</td>\n",
       "      <td>5.300000e+04</td>\n",
       "      <td>18.150000</td>\n",
       "      <td>1493.000000</td>\n",
       "      <td>92.000000</td>\n",
       "      <td>5.000000</td>\n",
       "      <td>5.640000</td>\n",
       "    </tr>\n",
       "    <tr>\n",
       "      <th>75%</th>\n",
       "      <td>2016.000000</td>\n",
       "      <td>7.300000e+04</td>\n",
       "      <td>21.100000</td>\n",
       "      <td>1984.000000</td>\n",
       "      <td>138.100000</td>\n",
       "      <td>5.000000</td>\n",
       "      <td>9.950000</td>\n",
       "    </tr>\n",
       "    <tr>\n",
       "      <th>max</th>\n",
       "      <td>2019.000000</td>\n",
       "      <td>6.500000e+06</td>\n",
       "      <td>33.540000</td>\n",
       "      <td>5998.000000</td>\n",
       "      <td>560.000000</td>\n",
       "      <td>10.000000</td>\n",
       "      <td>160.000000</td>\n",
       "    </tr>\n",
       "  </tbody>\n",
       "</table>\n",
       "</div>"
      ],
      "text/plain": [
       "              Year  Kilometers_Driven      Mileage       Engine        Power  \\\n",
       "count  6014.000000       6.014000e+03  6014.000000  6014.000000  6014.000000   \n",
       "mean   2013.360492       5.874714e+04    18.134280  1620.727802   111.183741   \n",
       "std       3.269035       9.130613e+04     4.583331   600.287096    55.494266   \n",
       "min    1998.000000       1.710000e+02     0.000000   624.000000     0.000000   \n",
       "25%    2011.000000       3.400000e+04    15.170000  1198.000000    74.000000   \n",
       "50%    2014.000000       5.300000e+04    18.150000  1493.000000    92.000000   \n",
       "75%    2016.000000       7.300000e+04    21.100000  1984.000000   138.100000   \n",
       "max    2019.000000       6.500000e+06    33.540000  5998.000000   560.000000   \n",
       "\n",
       "             Seats        Price  \n",
       "count  6014.000000  6014.000000  \n",
       "mean      5.277353     9.482112  \n",
       "std       0.806940    11.191117  \n",
       "min       0.000000     0.440000  \n",
       "25%       5.000000     3.500000  \n",
       "50%       5.000000     5.640000  \n",
       "75%       5.000000     9.950000  \n",
       "max      10.000000   160.000000  "
      ]
     },
     "execution_count": 18,
     "metadata": {},
     "output_type": "execute_result"
    }
   ],
   "source": [
    "#CHECKING THE OVERVIEW STATISTICS OF THE DATASET FOR CENTRAL TENDENCY, COUNT, MAX AND MIN SCORE\n",
    "s_data.describe()\n"
   ]
  },
  {
   "cell_type": "code",
   "execution_count": 19,
   "metadata": {},
   "outputs": [
    {
     "data": {
      "text/plain": [
       "['Name',\n",
       " 'Location',\n",
       " 'Year',\n",
       " 'Kilometers_Driven',\n",
       " 'Fuel_Type',\n",
       " 'Transmission',\n",
       " 'Owner_Type',\n",
       " 'Mileage',\n",
       " 'Engine',\n",
       " 'Power',\n",
       " 'Seats',\n",
       " 'Price',\n",
       " 'Car_Brand1']"
      ]
     },
     "execution_count": 19,
     "metadata": {},
     "output_type": "execute_result"
    }
   ],
   "source": [
    "s_data.columns.tolist()"
   ]
  },
  {
   "cell_type": "code",
   "execution_count": 20,
   "metadata": {},
   "outputs": [
    {
     "data": {
      "text/plain": [
       "Name                 1873\n",
       "Location               11\n",
       "Year                   22\n",
       "Kilometers_Driven    3093\n",
       "Fuel_Type               4\n",
       "Transmission            2\n",
       "Owner_Type              4\n",
       "Mileage               430\n",
       "Engine                145\n",
       "Power                 369\n",
       "Seats                   9\n",
       "Price                1373\n",
       "Car_Brand1            213\n",
       "dtype: int64"
      ]
     },
     "execution_count": 20,
     "metadata": {},
     "output_type": "execute_result"
    }
   ],
   "source": [
    "#CHECKING THE UNIQUE VALUES\n",
    "s_data.nunique()"
   ]
  },
  {
   "cell_type": "code",
   "execution_count": 21,
   "metadata": {},
   "outputs": [
    {
     "data": {
      "text/plain": [
       "Mahindra XUV500 W8 2WD                          49\n",
       "Maruti Swift VDI                                45\n",
       "Honda City 1.5 S MT                             34\n",
       "Maruti Swift Dzire VDI                          34\n",
       "Maruti Swift VDI BSIV                           31\n",
       "                                                ..\n",
       "Land Rover Discovery 3 TDV6 Diesel Automatic     1\n",
       "Honda City ZX EXi                                1\n",
       "Maruti Wagon R LXI DUO BSIII                     1\n",
       "BMW 5 Series 2010-2013 530d                      1\n",
       "Toyota Corolla Altis 1.8 G CVT                   1\n",
       "Name: Name, Length: 1873, dtype: int64"
      ]
     },
     "execution_count": 21,
     "metadata": {},
     "output_type": "execute_result"
    }
   ],
   "source": [
    "s_data['Name'].value_counts()"
   ]
  },
  {
   "cell_type": "markdown",
   "metadata": {},
   "source": [
    "## RELATIONSHIP ANALYSIS"
   ]
  },
  {
   "cell_type": "code",
   "execution_count": 22,
   "metadata": {},
   "outputs": [
    {
     "data": {
      "text/plain": [
       "<matplotlib.axes._subplots.AxesSubplot at 0x7f228a266710>"
      ]
     },
     "execution_count": 22,
     "metadata": {},
     "output_type": "execute_result"
    },
    {
     "data": {
      "image/png": "[encoded data removed]",
      "text/plain": [
       "<Figure size 432x288 with 1 Axes>"
      ]
     },
     "metadata": {
      "needs_background": "light"
     },
     "output_type": "display_data"
    }
   ],
   "source": [
    "#visualisation through histogram\n",
    "s_data['Price'].hist() # histogram plot"
   ]
  },
  {
   "cell_type": "code",
   "execution_count": 23,
   "metadata": {},
   "outputs": [
    {
     "data": {
      "text/plain": [
       "<matplotlib.axes._subplots.AxesSubplot at 0x7f228a6d0e90>"
      ]
     },
     "execution_count": 23,
     "metadata": {},
     "output_type": "execute_result"
    },
    {
     "data": {
      "image/png": "[encoded data removed]",
      "text/plain": [
       "<Figure size 1800x1800 with 1 Axes>"
      ]
     },
     "metadata": {
      "needs_background": "light"
     },
     "output_type": "display_data"
    }
   ],
   "source": [
    "s_data['Price'].value_counts().plot(kind='bar', figsize=[25,25])"
   ]
  },
  {
   "cell_type": "code",
   "execution_count": 24,
   "metadata": {},
   "outputs": [
    {
     "data": {
      "text/plain": [
       "<matplotlib.axes._subplots.AxesSubplot at 0x7f2288e84bd0>"
      ]
     },
     "execution_count": 24,
     "metadata": {},
     "output_type": "execute_result"
    },
    {
     "data": {
      "image/png": "[encoded data removed]",
      "text/plain": [
       "<Figure size 1080x360 with 1 Axes>"
      ]
     },
     "metadata": {
      "needs_background": "light"
     },
     "output_type": "display_data"
    }
   ],
   "source": [
    "s_data['Location'].value_counts().plot(kind='bar', figsize=[15,5])"
   ]
  },
  {
   "cell_type": "markdown",
   "metadata": {},
   "source": [
    "The above graph shows the cities with the number cars they are having for the sale.\n",
    "The graph clearly shows that the city with maximum stuff is Mumbai and city with minimum stuffs is Ahmedabad."
   ]
  },
  {
   "cell_type": "code",
   "execution_count": 25,
   "metadata": {},
   "outputs": [
    {
     "data": {
      "text/plain": [
       "<matplotlib.axes._subplots.AxesSubplot at 0x7f2287633410>"
      ]
     },
     "execution_count": 25,
     "metadata": {},
     "output_type": "execute_result"
    },
    {
     "data": {
      "image/png": "[encoded data removed]",
      "text/plain": [
       "<Figure size 1080x360 with 1 Axes>"
      ]
     },
     "metadata": {
      "needs_background": "light"
     },
     "output_type": "display_data"
    }
   ],
   "source": [
    "s_data['Fuel_Type'].value_counts().plot(kind='bar', figsize=[15,5])"
   ]
  },
  {
   "cell_type": "code",
   "execution_count": 26,
   "metadata": {},
   "outputs": [
    {
     "data": {
      "text/plain": [
       "<matplotlib.axes._subplots.AxesSubplot at 0x7f2287609e90>"
      ]
     },
     "execution_count": 26,
     "metadata": {},
     "output_type": "execute_result"
    },
    {
     "data": {
      "image/png": "[encoded data removed]",
      "text/plain": [
       "<Figure size 1080x360 with 1 Axes>"
      ]
     },
     "metadata": {
      "needs_background": "light"
     },
     "output_type": "display_data"
    }
   ],
   "source": [
    "s_data['Owner_Type'].value_counts().plot(kind='bar', figsize=[15,5])"
   ]
  },
  {
   "cell_type": "code",
   "execution_count": 27,
   "metadata": {},
   "outputs": [
    {
     "data": {
      "text/plain": [
       "<matplotlib.axes._subplots.AxesSubplot at 0x7f22875aa410>"
      ]
     },
     "execution_count": 27,
     "metadata": {},
     "output_type": "execute_result"
    },
    {
     "data": {
      "image/png": "[encoded data removed]",
      "text/plain": [
       "<Figure size 1440x1440 with 1 Axes>"
      ]
     },
     "metadata": {
      "needs_background": "light"
     },
     "output_type": "display_data"
    }
   ],
   "source": [
    "s_data[\"Mileage\"].value_counts().plot(kind='bar',figsize=[20,20])"
   ]
  },
  {
   "cell_type": "markdown",
   "metadata": {},
   "source": [
    "The above plot shows the no. of cars with various mileages.\n",
    "\n",
    "There is a decrease in mileage as the no. of cars increases.\n",
    "\n",
    "That means the no. of cars with a good mileage capacity is lesser than the no of cars with lower mileage."
   ]
  },
  {
   "cell_type": "code",
   "execution_count": 28,
   "metadata": {},
   "outputs": [
    {
     "data": {
      "text/plain": [
       "<matplotlib.axes._subplots.AxesSubplot at 0x7f22876934d0>"
      ]
     },
     "execution_count": 28,
     "metadata": {},
     "output_type": "execute_result"
    },
    {
     "data": {
      "image/png": "[encoded data removed]",
      "text/plain": [
       "<Figure size 1440x720 with 1 Axes>"
      ]
     },
     "metadata": {
      "needs_background": "light"
     },
     "output_type": "display_data"
    }
   ],
   "source": [
    "s_data[\"Seats\"].value_counts().plot(kind='barh',figsize=[20,10])"
   ]
  },
  {
   "cell_type": "code",
   "execution_count": 29,
   "metadata": {},
   "outputs": [
    {
     "data": {
      "text/plain": [
       "<seaborn.axisgrid.FacetGrid at 0x7f22875a2890>"
      ]
     },
     "execution_count": 29,
     "metadata": {},
     "output_type": "execute_result"
    },
    {
     "data": {
      "image/png": "[encoded data removed]",
      "text/plain": [
       "<Figure size 446.359x360 with 1 Axes>"
      ]
     },
     "metadata": {
      "needs_background": "light"
     },
     "output_type": "display_data"
    }
   ],
   "source": [
    "sns.relplot(x=\"Kilometers_Driven\",y=\"Power\",hue=\"Fuel_Type\",data=s_data)"
   ]
  },
  {
   "cell_type": "code",
   "execution_count": 30,
   "metadata": {},
   "outputs": [
    {
     "data": {
      "text/plain": [
       "<matplotlib.axes._subplots.AxesSubplot at 0x7f2285187950>"
      ]
     },
     "execution_count": 30,
     "metadata": {},
     "output_type": "execute_result"
    },
    {
     "data": {
      "image/png": "[encoded data removed]",
      "text/plain": [
       "<Figure size 432x288 with 1 Axes>"
      ]
     },
     "metadata": {
      "needs_background": "light"
     },
     "output_type": "display_data"
    }
   ],
   "source": [
    "s_data.groupby('Year').mean().plot(kind='bar')"
   ]
  },
  {
   "cell_type": "code",
   "execution_count": 31,
   "metadata": {},
   "outputs": [
    {
     "data": {
      "text/plain": [
       "<matplotlib.axes._subplots.AxesSubplot at 0x7f228518da90>"
      ]
     },
     "execution_count": 31,
     "metadata": {},
     "output_type": "execute_result"
    },
    {
     "data": {
      "image/png": "[encoded data removed]",
      "text/plain": [
       "<Figure size 432x288 with 1 Axes>"
      ]
     },
     "metadata": {
      "needs_background": "light"
     },
     "output_type": "display_data"
    }
   ],
   "source": [
    "s_data.groupby(\"Seats\").mean().plot(kind='barh')"
   ]
  },
  {
   "cell_type": "markdown",
   "metadata": {},
   "source": [
    "The above plot shows the relationship of  the no of seats and the kilometers driven.\n",
    "\n",
    "2 seated cars are least driven.\n",
    "\n",
    " This will depict a clear picture before purchasing a car with lower wear and tear."
   ]
  },
  {
   "cell_type": "code",
   "execution_count": 32,
   "metadata": {},
   "outputs": [
    {
     "data": {
      "text/plain": [
       "<matplotlib.axes._subplots.AxesSubplot at 0x7f2284f4c750>"
      ]
     },
     "execution_count": 32,
     "metadata": {},
     "output_type": "execute_result"
    },
    {
     "data": {
      "image/png": "[encoded data removed]",
      "text/plain": [
       "<Figure size 432x288 with 1 Axes>"
      ]
     },
     "metadata": {
      "needs_background": "light"
     },
     "output_type": "display_data"
    }
   ],
   "source": [
    "s_data.groupby(\"Owner_Type\").mean().plot(kind='bar')"
   ]
  },
  {
   "cell_type": "markdown",
   "metadata": {},
   "source": [
    "**The above plot shows the  cars with various owner types and the mean of the kilometres driven.4th and above handed cars are driven for larger no of kilometers and1st/new cars are driven the least It shows a clear idea for choosing the right car.**"
   ]
  },
  {
   "cell_type": "code",
   "execution_count": 33,
   "metadata": {},
   "outputs": [
    {
     "name": "stdout",
     "output_type": "stream",
     "text": [
      "Name                 Ambassador Classic Nova Diesel\n",
      "Location                                  Ahmedabad\n",
      "Year                                           1998\n",
      "Kilometers_Driven                               171\n",
      "Fuel_Type                                       CNG\n",
      "Transmission                              Automatic\n",
      "Owner_Type                                    First\n",
      "Mileage                                           0\n",
      "Engine                                          624\n",
      "Power                                             0\n",
      "Seats                                             0\n",
      "Price                                          0.44\n",
      "Car_Brand1                       Ambassador Classic\n",
      "dtype: object\n"
     ]
    }
   ],
   "source": [
    "print(s_data.min())"
   ]
  },
  {
   "cell_type": "code",
   "execution_count": 34,
   "metadata": {},
   "outputs": [
    {
     "name": "stdout",
     "output_type": "stream",
     "text": [
      "Name                 Volvo XC90 2007-2015 D5 AWD\n",
      "Location                                    Pune\n",
      "Year                                        2019\n",
      "Kilometers_Driven                        6500000\n",
      "Fuel_Type                                 Petrol\n",
      "Transmission                              Manual\n",
      "Owner_Type                                 Third\n",
      "Mileage                                    33.54\n",
      "Engine                                      5998\n",
      "Power                                        560\n",
      "Seats                                         10\n",
      "Price                                        160\n",
      "Car_Brand1                            Volvo XC90\n",
      "dtype: object\n"
     ]
    }
   ],
   "source": [
    "print(s_data.max())"
   ]
  },
  {
   "cell_type": "code",
   "execution_count": 35,
   "metadata": {},
   "outputs": [
    {
     "name": "stdout",
     "output_type": "stream",
     "text": [
      "160.0\n"
     ]
    }
   ],
   "source": [
    "print(max(s_data['Price']))"
   ]
  },
  {
   "cell_type": "code",
   "execution_count": 36,
   "metadata": {},
   "outputs": [
    {
     "name": "stdout",
     "output_type": "stream",
     "text": [
      "0.44\n"
     ]
    }
   ],
   "source": [
    "print(min(s_data['Price']))"
   ]
  },
  {
   "cell_type": "code",
   "execution_count": 37,
   "metadata": {},
   "outputs": [
    {
     "name": "stdout",
     "output_type": "stream",
     "text": [
      "Series([], Name: Name, dtype: object)\n"
     ]
    }
   ],
   "source": [
    "print(s_data['Name'][s_data['Price']==max])"
   ]
  },
  {
   "cell_type": "code",
   "execution_count": 38,
   "metadata": {},
   "outputs": [
    {
     "name": "stdout",
     "output_type": "stream",
     "text": [
      "                                Name  Price\n",
      "0     Ambassador Classic Nova Diesel   1.35\n",
      "1          Audi A3 35 TDI Attraction  16.50\n",
      "2             Audi A3 35 TDI Premium  19.25\n",
      "3        Audi A3 35 TDI Premium Plus  18.90\n",
      "4          Audi A3 35 TDI Technology  22.50\n",
      "...                              ...    ...\n",
      "1868            Volvo XC60 D4 Summum  18.25\n",
      "1869                   Volvo XC60 D5  32.50\n",
      "1870       Volvo XC60 D5 Inscription  17.18\n",
      "1871  Volvo XC90 2007-2015 D5 AT AWD  23.58\n",
      "1872     Volvo XC90 2007-2015 D5 AWD  23.65\n",
      "\n",
      "[1873 rows x 2 columns]\n"
     ]
    }
   ],
   "source": [
    "price_df=s_data.groupby('Name')['Price'].max().reset_index()\n",
    "print(price_df)"
   ]
  },
  {
   "cell_type": "code",
   "execution_count": 39,
   "metadata": {},
   "outputs": [
    {
     "data": {
      "image/png": "[encoded data removed]",
      "text/plain": [
       "<Figure size 432x288 with 1 Axes>"
      ]
     },
     "metadata": {
      "needs_background": "light"
     },
     "output_type": "display_data"
    }
   ],
   "source": [
    "s_data.Location.value_counts().plot(kind='bar')\n",
    "plt.title('Distribution w.r.t cities')\n",
    "plt.show()"
   ]
  },
  {
   "cell_type": "code",
   "execution_count": 40,
   "metadata": {},
   "outputs": [
    {
     "data": {
      "text/plain": [
       "Text(0.5, 1.0, 'Distribution according to the transmission')"
      ]
     },
     "execution_count": 40,
     "metadata": {},
     "output_type": "execute_result"
    },
    {
     "data": {
      "image/png": "[encoded data removed]",
      "text/plain": [
       "<Figure size 432x288 with 1 Axes>"
      ]
     },
     "metadata": {
      "needs_background": "light"
     },
     "output_type": "display_data"
    }
   ],
   "source": [
    "#Transmission\n",
    "s_data.Transmission.value_counts().plot(kind='bar')\n",
    "plt.title('Distribution according to the transmission')\n",
    "# Inference \n",
    "# Automatic cars are less in number than Manual cars."
   ]
  },
  {
   "cell_type": "markdown",
   "metadata": {},
   "source": [
    "## OVERALL CONCLUSION ON THE BASIS OF THE ANALYSIS"
   ]
  },
  {
   "cell_type": "markdown",
   "metadata": {},
   "source": [
    " - MUMBAI CITY IS AT THE TOP IN CAR PRODUCTION AND SALE.\n",
    " - THE AVERAGE PRICE OF THE CARS IS ABOUT 9.479 LAKHS\n",
    " - AHMEDABAD PRODUCES/SALES LOWEST NO OF CARS.\n",
    " - MAX PRICE IS 160 LAKHS.\n",
    " - MINIMUM PRICE IS 0.44 LAKHS.\n",
    " - DIESEL IS THE MOST COMMONLY USED FUEL IN INDIA FOLLOWED BY PETROL.\n",
    " - CNG AND ELECTRIC CARS ARE VERY VERY LESS WHICH IS A MATTER OF REGRET.\n",
    " - GOVT.  MUST TAKE RIGHT STEPS TO INCREASE THE CNG AND ELECTRIC FUEL CONSUPTION AND PEOPLE MUST USE CNG AND ELECTRICITY AS FUELS   AS THEY PRODUCE LESS AIR POLLUTION.\n",
    " - LESS NO. OF CARS WITH BETTER MILEAGE ARE PRODUCED IN INDIA.\n",
    " - MORE NO. OF CARS WITH POORER MILEAGE ARE PRODUCED IN LARGER NUMBER.\n",
    " - 1ST HANDED CARS OR THE NEW CARS ARE DRIVEN FOR LESSER DISTANCES, LEAST WEAR AND TEAR.\n",
    " - 1ST HANDED CARS ARE PRODUCED IN LARGER NUMBER.\n",
    " - 4TH HANDED CARS/ABOVE  ARE DRIVEN FOR MORE DISTANCES,ARE SUPPOSED TO BE MORE DAMAGED.\n",
    " - NO. OF 5 SEATER CARS ARE MORE IN NUMBER, IN HIGH DEMAND.\n",
    " - 2 SEATER CARS ARE LEAST IN NUMBER.\n",
    " - MAXIMUM 10 SEATER CARS ARE THERE,WITH MAXIMUM DISTANCES OF TRAVEL.\n",
    " - 2 SEATER CARS ARE RUN FOR LEAST DISTANCES\n",
    " - IN 2001, MAXIMUM DISTANCE IS DRIVEN BY CARS AND 2019 IS THE LEAST IN THIS ISSUE.\n",
    "\n",
    " LAST BUT NOT THE LEAST, IT IS TOTALLY THE CHOICE OF PEOPLE WHICH CAR THEY ARE GONNA PURCHASE. I JUST GAVE A CLEAR PICTURE.\n",
    " OBVIOUSLY 2ND/3RD/4TH OR ABOVE HANDED CARS ARE LESSER IN PRICE AND QUALITY.\n",
    " USE OF CNG AND ELECTRICITY AS FUEL MUST BE PROMOTED."
   ]
  },
  {
   "cell_type": "markdown",
   "metadata": {},
   "source": [
    "# 4. Handle Categorical variable"
   ]
  },
  {
   "cell_type": "code",
   "execution_count": 41,
   "metadata": {},
   "outputs": [
    {
     "name": "stdout",
     "output_type": "stream",
     "text": [
      "(6014, 13)\n"
     ]
    }
   ],
   "source": [
    "s_data = pd.DataFrame(s_data)\n",
    "print(s_data.shape)"
   ]
  },
  {
   "cell_type": "code",
   "execution_count": 42,
   "metadata": {},
   "outputs": [
    {
     "name": "stdout",
     "output_type": "stream",
     "text": [
      "Name                   object\n",
      "Location             category\n",
      "Year                    int64\n",
      "Kilometers_Driven       int64\n",
      "Fuel_Type              object\n",
      "Transmission           object\n",
      "Owner_Type             object\n",
      "Mileage               float64\n",
      "Engine                float64\n",
      "Power                 float64\n",
      "Seats                 float64\n",
      "Price                 float64\n",
      "Car_Brand1             object\n",
      "dtype: object\n"
     ]
    }
   ],
   "source": [
    "s_data[\"Location\"] = s_data[\"Location\"].astype('category')\n",
    "print(s_data.dtypes)"
   ]
  },
  {
   "cell_type": "code",
   "execution_count": 43,
   "metadata": {},
   "outputs": [
    {
     "name": "stdout",
     "output_type": "stream",
     "text": [
      "                               Name  Location  Year  Kilometers_Driven  \\\n",
      "0            Maruti Wagon R LXI CNG         9  2010              72000   \n",
      "1  Hyundai Creta 1.6 CRDi SX Option        10  2015              41000   \n",
      "2                      Honda Jazz V         2  2011              46000   \n",
      "3                 Maruti Ertiga VDI         2  2012              87000   \n",
      "4   Audi A4 New 2.0 TDI Multitronic         3  2013              40670   \n",
      "\n",
      "  Fuel_Type Transmission Owner_Type  Mileage  Engine   Power  Seats  Price  \\\n",
      "0       CNG       Manual      First    26.60   998.0   58.16    5.0   1.75   \n",
      "1    Diesel       Manual      First    19.67  1582.0  126.20    5.0  12.50   \n",
      "2    Petrol       Manual      First    18.20  1199.0   88.70    5.0   4.50   \n",
      "3    Diesel       Manual      First    20.77  1248.0   88.76    7.0   6.00   \n",
      "4    Diesel    Automatic     Second    15.20  1968.0  140.80    5.0  17.74   \n",
      "\n",
      "      Car_Brand1  \n",
      "0   Maruti Wagon  \n",
      "1  Hyundai Creta  \n",
      "2     Honda Jazz  \n",
      "3  Maruti Ertiga  \n",
      "4        Audi A4  \n"
     ]
    }
   ],
   "source": [
    "s_data[\"Location\"] = s_data[\"Location\"].cat.codes\n",
    "print(s_data.head())"
   ]
  },
  {
   "cell_type": "code",
   "execution_count": 44,
   "metadata": {},
   "outputs": [
    {
     "name": "stdout",
     "output_type": "stream",
     "text": [
      "Name                   object\n",
      "Location                 int8\n",
      "Year                    int64\n",
      "Kilometers_Driven       int64\n",
      "Fuel_Type            category\n",
      "Transmission           object\n",
      "Owner_Type             object\n",
      "Mileage               float64\n",
      "Engine                float64\n",
      "Power                 float64\n",
      "Seats                 float64\n",
      "Price                 float64\n",
      "Car_Brand1             object\n",
      "dtype: object\n"
     ]
    }
   ],
   "source": [
    "s_data[\"Fuel_Type\"] = s_data[\"Fuel_Type\"].astype('category')\n",
    "print(s_data.dtypes)"
   ]
  },
  {
   "cell_type": "code",
   "execution_count": 45,
   "metadata": {},
   "outputs": [],
   "source": [
    "from sklearn.preprocessing import LabelEncoder\n",
    "\n",
    "label_encoder = LabelEncoder()"
   ]
  },
  {
   "cell_type": "code",
   "execution_count": 46,
   "metadata": {},
   "outputs": [],
   "source": [
    "s_data['Location'] = label_encoder.fit_transform(s_data['Location'])\n",
    "s_data['Fuel_Type'] = label_encoder.fit_transform(s_data['Fuel_Type'])\n",
    "s_data['Transmission'] = label_encoder.fit_transform(s_data['Transmission'])\n",
    "s_data['Owner_Type'] = label_encoder.fit_transform(s_data['Owner_Type'])\n",
    "s_data['Name'] = label_encoder.fit_transform(s_data['Name'])"
   ]
  },
  {
   "cell_type": "code",
   "execution_count": 47,
   "metadata": {},
   "outputs": [],
   "source": [
    "x = s_data.drop(['Price','Car_Brand1'],axis=1)"
   ]
  },
  {
   "cell_type": "code",
   "execution_count": 48,
   "metadata": {},
   "outputs": [
    {
     "name": "stdout",
     "output_type": "stream",
     "text": [
      "   Name  Location  Year  Kilometers_Driven  Fuel_Type  Transmission  \\\n",
      "0  1198         9  2010              72000          0             1   \n",
      "1   512        10  2015              41000          1             1   \n",
      "2   486         2  2011              46000          3             1   \n",
      "3  1058         2  2012              87000          1             1   \n",
      "4    23         3  2013              40670          1             0   \n",
      "\n",
      "   Owner_Type  Mileage  Engine   Power  Seats  \n",
      "0           0    26.60   998.0   58.16    5.0  \n",
      "1           0    19.67  1582.0  126.20    5.0  \n",
      "2           0    18.20  1199.0   88.70    5.0  \n",
      "3           0    20.77  1248.0   88.76    7.0  \n",
      "4           2    15.20  1968.0  140.80    5.0  \n"
     ]
    }
   ],
   "source": [
    "print(x.head())"
   ]
  },
  {
   "cell_type": "code",
   "execution_count": 49,
   "metadata": {},
   "outputs": [],
   "source": [
    "y = s_data['Price']"
   ]
  },
  {
   "cell_type": "code",
   "execution_count": 50,
   "metadata": {},
   "outputs": [
    {
     "name": "stdout",
     "output_type": "stream",
     "text": [
      "0     1.75\n",
      "1    12.50\n",
      "2     4.50\n",
      "3     6.00\n",
      "4    17.74\n",
      "Name: Price, dtype: float64\n"
     ]
    }
   ],
   "source": [
    "print(y.head())"
   ]
  },
  {
   "cell_type": "markdown",
   "metadata": {},
   "source": [
    "# 5. Data Scaling"
   ]
  },
  {
   "cell_type": "markdown",
   "metadata": {},
   "source": [
    "`Kilometers_Driven`, `Mileage`, `Engine` & `Power` have different ranges. Therefore, normalizing so that each lies in the range [0,1]."
   ]
  },
  {
   "cell_type": "code",
   "execution_count": 51,
   "metadata": {},
   "outputs": [],
   "source": [
    "from sklearn.preprocessing import MinMaxScaler"
   ]
  },
  {
   "cell_type": "code",
   "execution_count": 52,
   "metadata": {},
   "outputs": [],
   "source": [
    "mms = MinMaxScaler()"
   ]
  },
  {
   "cell_type": "code",
   "execution_count": 53,
   "metadata": {},
   "outputs": [],
   "source": [
    "x[['Kilometers_Driven', 'Mileage', 'Engine', 'Power']] = mms.fit_transform(x[['Kilometers_Driven', 'Mileage', 'Engine', 'Power']])"
   ]
  },
  {
   "cell_type": "code",
   "execution_count": 54,
   "metadata": {},
   "outputs": [
    {
     "data": {
      "text/html": [
       "<div>\n",
       "<style scoped>\n",
       "    .dataframe tbody tr th:only-of-type {\n",
       "        vertical-align: middle;\n",
       "    }\n",
       "\n",
       "    .dataframe tbody tr th {\n",
       "        vertical-align: top;\n",
       "    }\n",
       "\n",
       "    .dataframe thead th {\n",
       "        text-align: right;\n",
       "    }\n",
       "</style>\n",
       "<table border=\"1\" class=\"dataframe\">\n",
       "  <thead>\n",
       "    <tr style=\"text-align: right;\">\n",
       "      <th></th>\n",
       "      <th>Name</th>\n",
       "      <th>Location</th>\n",
       "      <th>Year</th>\n",
       "      <th>Kilometers_Driven</th>\n",
       "      <th>Fuel_Type</th>\n",
       "      <th>Transmission</th>\n",
       "      <th>Owner_Type</th>\n",
       "      <th>Mileage</th>\n",
       "      <th>Engine</th>\n",
       "      <th>Power</th>\n",
       "      <th>Seats</th>\n",
       "    </tr>\n",
       "  </thead>\n",
       "  <tbody>\n",
       "    <tr>\n",
       "      <th>0</th>\n",
       "      <td>1198</td>\n",
       "      <td>9</td>\n",
       "      <td>2010</td>\n",
       "      <td>0.011051</td>\n",
       "      <td>0</td>\n",
       "      <td>1</td>\n",
       "      <td>0</td>\n",
       "      <td>0.793083</td>\n",
       "      <td>0.069594</td>\n",
       "      <td>0.103857</td>\n",
       "      <td>5.0</td>\n",
       "    </tr>\n",
       "    <tr>\n",
       "      <th>1</th>\n",
       "      <td>512</td>\n",
       "      <td>10</td>\n",
       "      <td>2015</td>\n",
       "      <td>0.006282</td>\n",
       "      <td>1</td>\n",
       "      <td>1</td>\n",
       "      <td>0</td>\n",
       "      <td>0.586464</td>\n",
       "      <td>0.178266</td>\n",
       "      <td>0.225357</td>\n",
       "      <td>5.0</td>\n",
       "    </tr>\n",
       "    <tr>\n",
       "      <th>2</th>\n",
       "      <td>486</td>\n",
       "      <td>2</td>\n",
       "      <td>2011</td>\n",
       "      <td>0.007051</td>\n",
       "      <td>3</td>\n",
       "      <td>1</td>\n",
       "      <td>0</td>\n",
       "      <td>0.542636</td>\n",
       "      <td>0.106997</td>\n",
       "      <td>0.158393</td>\n",
       "      <td>5.0</td>\n",
       "    </tr>\n",
       "    <tr>\n",
       "      <th>3</th>\n",
       "      <td>1058</td>\n",
       "      <td>2</td>\n",
       "      <td>2012</td>\n",
       "      <td>0.013359</td>\n",
       "      <td>1</td>\n",
       "      <td>1</td>\n",
       "      <td>0</td>\n",
       "      <td>0.619261</td>\n",
       "      <td>0.116115</td>\n",
       "      <td>0.158500</td>\n",
       "      <td>7.0</td>\n",
       "    </tr>\n",
       "    <tr>\n",
       "      <th>4</th>\n",
       "      <td>23</td>\n",
       "      <td>3</td>\n",
       "      <td>2013</td>\n",
       "      <td>0.006231</td>\n",
       "      <td>1</td>\n",
       "      <td>0</td>\n",
       "      <td>2</td>\n",
       "      <td>0.453190</td>\n",
       "      <td>0.250093</td>\n",
       "      <td>0.251429</td>\n",
       "      <td>5.0</td>\n",
       "    </tr>\n",
       "  </tbody>\n",
       "</table>\n",
       "</div>"
      ],
      "text/plain": [
       "   Name  Location  Year  Kilometers_Driven  Fuel_Type  Transmission  \\\n",
       "0  1198         9  2010           0.011051          0             1   \n",
       "1   512        10  2015           0.006282          1             1   \n",
       "2   486         2  2011           0.007051          3             1   \n",
       "3  1058         2  2012           0.013359          1             1   \n",
       "4    23         3  2013           0.006231          1             0   \n",
       "\n",
       "   Owner_Type   Mileage    Engine     Power  Seats  \n",
       "0           0  0.793083  0.069594  0.103857    5.0  \n",
       "1           0  0.586464  0.178266  0.225357    5.0  \n",
       "2           0  0.542636  0.106997  0.158393    5.0  \n",
       "3           0  0.619261  0.116115  0.158500    7.0  \n",
       "4           2  0.453190  0.250093  0.251429    5.0  "
      ]
     },
     "execution_count": 54,
     "metadata": {},
     "output_type": "execute_result"
    }
   ],
   "source": [
    "x.head()"
   ]
  },
  {
   "cell_type": "code",
   "execution_count": 55,
   "metadata": {},
   "outputs": [
    {
     "data": {
      "text/plain": [
       "<matplotlib.axes._subplots.AxesSubplot at 0x7f2284d34390>"
      ]
     },
     "execution_count": 55,
     "metadata": {},
     "output_type": "execute_result"
    },
    {
     "data": {
      "image/png": "[encoded data removed]",
      "text/plain": [
       "<Figure size 720x720 with 2 Axes>"
      ]
     },
     "metadata": {
      "needs_background": "light"
     },
     "output_type": "display_data"
    }
   ],
   "source": [
    "plt.figure(figsize=(10,10)) # Change: Make plot bigger - Ayaan\n",
    "sns.heatmap(s_data.corr(),annot = True)"
   ]
  },
  {
   "cell_type": "markdown",
   "metadata": {},
   "source": [
    "# 6. Train-Test Split\n",
    "### *Smahi Shah, Rohan Dhoundiyal, G S Bharath & Mohd Ayaan Anwar*"
   ]
  },
  {
   "cell_type": "code",
   "execution_count": 56,
   "metadata": {},
   "outputs": [],
   "source": [
    "from sklearn.model_selection import train_test_split"
   ]
  },
  {
   "cell_type": "code",
   "execution_count": 57,
   "metadata": {},
   "outputs": [],
   "source": [
    "xTrain, xTest, yTrain, yTest = train_test_split(x, y, train_size = 0.75)"
   ]
  },
  {
   "cell_type": "code",
   "execution_count": 58,
   "metadata": {},
   "outputs": [
    {
     "data": {
      "text/html": [
       "<div>\n",
       "<style scoped>\n",
       "    .dataframe tbody tr th:only-of-type {\n",
       "        vertical-align: middle;\n",
       "    }\n",
       "\n",
       "    .dataframe tbody tr th {\n",
       "        vertical-align: top;\n",
       "    }\n",
       "\n",
       "    .dataframe thead th {\n",
       "        text-align: right;\n",
       "    }\n",
       "</style>\n",
       "<table border=\"1\" class=\"dataframe\">\n",
       "  <thead>\n",
       "    <tr style=\"text-align: right;\">\n",
       "      <th></th>\n",
       "      <th>Name</th>\n",
       "      <th>Location</th>\n",
       "      <th>Year</th>\n",
       "      <th>Kilometers_Driven</th>\n",
       "      <th>Fuel_Type</th>\n",
       "      <th>Transmission</th>\n",
       "      <th>Owner_Type</th>\n",
       "      <th>Mileage</th>\n",
       "      <th>Engine</th>\n",
       "      <th>Power</th>\n",
       "      <th>Seats</th>\n",
       "    </tr>\n",
       "  </thead>\n",
       "  <tbody>\n",
       "    <tr>\n",
       "      <th>5666</th>\n",
       "      <td>710</td>\n",
       "      <td>4</td>\n",
       "      <td>2017</td>\n",
       "      <td>0.001358</td>\n",
       "      <td>3</td>\n",
       "      <td>1</td>\n",
       "      <td>0</td>\n",
       "      <td>0.554562</td>\n",
       "      <td>0.106624</td>\n",
       "      <td>0.146125</td>\n",
       "      <td>5.0</td>\n",
       "    </tr>\n",
       "    <tr>\n",
       "      <th>2801</th>\n",
       "      <td>1452</td>\n",
       "      <td>3</td>\n",
       "      <td>2017</td>\n",
       "      <td>0.008172</td>\n",
       "      <td>3</td>\n",
       "      <td>0</td>\n",
       "      <td>0</td>\n",
       "      <td>0.670841</td>\n",
       "      <td>0.069780</td>\n",
       "      <td>0.119643</td>\n",
       "      <td>5.0</td>\n",
       "    </tr>\n",
       "    <tr>\n",
       "      <th>392</th>\n",
       "      <td>1333</td>\n",
       "      <td>3</td>\n",
       "      <td>2017</td>\n",
       "      <td>0.008659</td>\n",
       "      <td>1</td>\n",
       "      <td>0</td>\n",
       "      <td>0</td>\n",
       "      <td>0.402504</td>\n",
       "      <td>0.439710</td>\n",
       "      <td>0.503571</td>\n",
       "      <td>5.0</td>\n",
       "    </tr>\n",
       "    <tr>\n",
       "      <th>5668</th>\n",
       "      <td>283</td>\n",
       "      <td>5</td>\n",
       "      <td>2007</td>\n",
       "      <td>0.010436</td>\n",
       "      <td>1</td>\n",
       "      <td>1</td>\n",
       "      <td>0</td>\n",
       "      <td>0.530710</td>\n",
       "      <td>0.144213</td>\n",
       "      <td>0.121429</td>\n",
       "      <td>5.0</td>\n",
       "    </tr>\n",
       "    <tr>\n",
       "      <th>5170</th>\n",
       "      <td>258</td>\n",
       "      <td>5</td>\n",
       "      <td>2014</td>\n",
       "      <td>0.020847</td>\n",
       "      <td>1</td>\n",
       "      <td>1</td>\n",
       "      <td>0</td>\n",
       "      <td>0.676804</td>\n",
       "      <td>0.162635</td>\n",
       "      <td>0.160429</td>\n",
       "      <td>5.0</td>\n",
       "    </tr>\n",
       "    <tr>\n",
       "      <th>...</th>\n",
       "      <td>...</td>\n",
       "      <td>...</td>\n",
       "      <td>...</td>\n",
       "      <td>...</td>\n",
       "      <td>...</td>\n",
       "      <td>...</td>\n",
       "      <td>...</td>\n",
       "      <td>...</td>\n",
       "      <td>...</td>\n",
       "      <td>...</td>\n",
       "      <td>...</td>\n",
       "    </tr>\n",
       "    <tr>\n",
       "      <th>2772</th>\n",
       "      <td>637</td>\n",
       "      <td>9</td>\n",
       "      <td>2011</td>\n",
       "      <td>0.009451</td>\n",
       "      <td>3</td>\n",
       "      <td>1</td>\n",
       "      <td>0</td>\n",
       "      <td>0.509839</td>\n",
       "      <td>0.179940</td>\n",
       "      <td>0.216607</td>\n",
       "      <td>5.0</td>\n",
       "    </tr>\n",
       "    <tr>\n",
       "      <th>719</th>\n",
       "      <td>58</td>\n",
       "      <td>3</td>\n",
       "      <td>2015</td>\n",
       "      <td>0.007202</td>\n",
       "      <td>1</td>\n",
       "      <td>0</td>\n",
       "      <td>2</td>\n",
       "      <td>0.359869</td>\n",
       "      <td>0.435988</td>\n",
       "      <td>0.431071</td>\n",
       "      <td>7.0</td>\n",
       "    </tr>\n",
       "    <tr>\n",
       "      <th>727</th>\n",
       "      <td>714</td>\n",
       "      <td>2</td>\n",
       "      <td>2010</td>\n",
       "      <td>0.010392</td>\n",
       "      <td>3</td>\n",
       "      <td>1</td>\n",
       "      <td>0</td>\n",
       "      <td>0.551580</td>\n",
       "      <td>0.106624</td>\n",
       "      <td>0.142857</td>\n",
       "      <td>5.0</td>\n",
       "    </tr>\n",
       "    <tr>\n",
       "      <th>3709</th>\n",
       "      <td>419</td>\n",
       "      <td>5</td>\n",
       "      <td>2011</td>\n",
       "      <td>0.010983</td>\n",
       "      <td>3</td>\n",
       "      <td>1</td>\n",
       "      <td>0</td>\n",
       "      <td>0.506857</td>\n",
       "      <td>0.162449</td>\n",
       "      <td>0.210714</td>\n",
       "      <td>5.0</td>\n",
       "    </tr>\n",
       "    <tr>\n",
       "      <th>3201</th>\n",
       "      <td>449</td>\n",
       "      <td>7</td>\n",
       "      <td>2017</td>\n",
       "      <td>0.005885</td>\n",
       "      <td>3</td>\n",
       "      <td>1</td>\n",
       "      <td>0</td>\n",
       "      <td>0.530710</td>\n",
       "      <td>0.162449</td>\n",
       "      <td>0.209464</td>\n",
       "      <td>5.0</td>\n",
       "    </tr>\n",
       "  </tbody>\n",
       "</table>\n",
       "<p>1504 rows × 11 columns</p>\n",
       "</div>"
      ],
      "text/plain": [
       "      Name  Location  Year  Kilometers_Driven  Fuel_Type  Transmission  \\\n",
       "5666   710         4  2017           0.001358          3             1   \n",
       "2801  1452         3  2017           0.008172          3             0   \n",
       "392   1333         3  2017           0.008659          1             0   \n",
       "5668   283         5  2007           0.010436          1             1   \n",
       "5170   258         5  2014           0.020847          1             1   \n",
       "...    ...       ...   ...                ...        ...           ...   \n",
       "2772   637         9  2011           0.009451          3             1   \n",
       "719     58         3  2015           0.007202          1             0   \n",
       "727    714         2  2010           0.010392          3             1   \n",
       "3709   419         5  2011           0.010983          3             1   \n",
       "3201   449         7  2017           0.005885          3             1   \n",
       "\n",
       "      Owner_Type   Mileage    Engine     Power  Seats  \n",
       "5666           0  0.554562  0.106624  0.146125    5.0  \n",
       "2801           0  0.670841  0.069780  0.119643    5.0  \n",
       "392            0  0.402504  0.439710  0.503571    5.0  \n",
       "5668           0  0.530710  0.144213  0.121429    5.0  \n",
       "5170           0  0.676804  0.162635  0.160429    5.0  \n",
       "...          ...       ...       ...       ...    ...  \n",
       "2772           0  0.509839  0.179940  0.216607    5.0  \n",
       "719            2  0.359869  0.435988  0.431071    7.0  \n",
       "727            0  0.551580  0.106624  0.142857    5.0  \n",
       "3709           0  0.506857  0.162449  0.210714    5.0  \n",
       "3201           0  0.530710  0.162449  0.209464    5.0  \n",
       "\n",
       "[1504 rows x 11 columns]"
      ]
     },
     "execution_count": 58,
     "metadata": {},
     "output_type": "execute_result"
    }
   ],
   "source": [
    "xTest"
   ]
  },
  {
   "cell_type": "code",
   "execution_count": 59,
   "metadata": {},
   "outputs": [
    {
     "name": "stdout",
     "output_type": "stream",
     "text": [
      "4510\n",
      "1504\n",
      "4510\n",
      "1504\n"
     ]
    }
   ],
   "source": [
    "print(len(xTrain))\n",
    "print(len(xTest))\n",
    "print(len(yTrain))\n",
    "print(len(yTest))"
   ]
  },
  {
   "cell_type": "code",
   "execution_count": 60,
   "metadata": {},
   "outputs": [
    {
     "name": "stdout",
     "output_type": "stream",
     "text": [
      "<class 'pandas.core.frame.DataFrame'>\n",
      "Int64Index: 4510 entries, 309 to 5233\n",
      "Data columns (total 11 columns):\n",
      " #   Column             Non-Null Count  Dtype  \n",
      "---  ------             --------------  -----  \n",
      " 0   Name               4510 non-null   int64  \n",
      " 1   Location           4510 non-null   int64  \n",
      " 2   Year               4510 non-null   int64  \n",
      " 3   Kilometers_Driven  4510 non-null   float64\n",
      " 4   Fuel_Type          4510 non-null   int64  \n",
      " 5   Transmission       4510 non-null   int64  \n",
      " 6   Owner_Type         4510 non-null   int64  \n",
      " 7   Mileage            4510 non-null   float64\n",
      " 8   Engine             4510 non-null   float64\n",
      " 9   Power              4510 non-null   float64\n",
      " 10  Seats              4510 non-null   float64\n",
      "dtypes: float64(5), int64(6)\n",
      "memory usage: 422.8 KB\n"
     ]
    }
   ],
   "source": [
    "xTrain.info()"
   ]
  },
  {
   "cell_type": "code",
   "execution_count": 61,
   "metadata": {},
   "outputs": [
    {
     "data": {
      "text/plain": [
       "Name                 0\n",
       "Location             0\n",
       "Year                 0\n",
       "Kilometers_Driven    0\n",
       "Fuel_Type            0\n",
       "Transmission         0\n",
       "Owner_Type           0\n",
       "Mileage              0\n",
       "Engine               0\n",
       "Power                0\n",
       "Seats                0\n",
       "dtype: int64"
      ]
     },
     "execution_count": 61,
     "metadata": {},
     "output_type": "execute_result"
    }
   ],
   "source": [
    "xTrain.isna().sum()"
   ]
  },
  {
   "cell_type": "markdown",
   "metadata": {},
   "source": [
    "# 7. Applying ML Models with Error Metrics\n",
    "### *Smahi Shah, Rohan Dhoundiyal, G S Bharath & Mohd Ayaan Anwar*"
   ]
  },
  {
   "cell_type": "code",
   "execution_count": 62,
   "metadata": {},
   "outputs": [],
   "source": [
    "from sklearn.metrics import mean_squared_error\n",
    "from sklearn.metrics import mean_absolute_error\n",
    "from sklearn.metrics import r2_score\n",
    "from math import sqrt"
   ]
  },
  {
   "cell_type": "markdown",
   "metadata": {},
   "source": [
    "## I. Linear Regression"
   ]
  },
  {
   "cell_type": "code",
   "execution_count": 63,
   "metadata": {},
   "outputs": [],
   "source": [
    "from sklearn.linear_model import LinearRegression"
   ]
  },
  {
   "cell_type": "code",
   "execution_count": 64,
   "metadata": {},
   "outputs": [
    {
     "data": {
      "text/plain": [
       "LinearRegression(copy_X=True, fit_intercept=True, n_jobs=None, normalize=False)"
      ]
     },
     "execution_count": 64,
     "metadata": {},
     "output_type": "execute_result"
    }
   ],
   "source": [
    "model = LinearRegression()\n",
    "model.fit(xTrain,yTrain)"
   ]
  },
  {
   "cell_type": "code",
   "execution_count": 65,
   "metadata": {},
   "outputs": [],
   "source": [
    "coef = pd.DataFrame(model.coef_,x.columns,columns=['Coefficient'])"
   ]
  },
  {
   "cell_type": "code",
   "execution_count": 66,
   "metadata": {},
   "outputs": [],
   "source": [
    "predictions = model.predict(xTest)"
   ]
  },
  {
   "cell_type": "markdown",
   "metadata": {},
   "source": [
    "### Error Metrics"
   ]
  },
  {
   "cell_type": "code",
   "execution_count": 67,
   "metadata": {},
   "outputs": [
    {
     "data": {
      "text/plain": [
       "<matplotlib.collections.PathCollection at 0x7f22841f5e50>"
      ]
     },
     "execution_count": 67,
     "metadata": {},
     "output_type": "execute_result"
    },
    {
     "data": {
      "text/plain": [
       "<Figure size 432x288 with 0 Axes>"
      ]
     },
     "metadata": {},
     "output_type": "display_data"
    },
    {
     "data": {
      "image/png": "[encoded data removed]",
      "text/plain": [
       "<Figure size 720x720 with 1 Axes>"
      ]
     },
     "metadata": {
      "needs_background": "light"
     },
     "output_type": "display_data"
    }
   ],
   "source": [
    "plt.tight_layout()\n",
    "plt.figure(figsize=(10,10))\n",
    "plt.scatter(yTest,predictions, color='red')\n",
    "plt.scatter(yTest, yTest, color='green')"
   ]
  },
  {
   "cell_type": "code",
   "execution_count": 68,
   "metadata": {},
   "outputs": [
    {
     "name": "stdout",
     "output_type": "stream",
     "text": [
      "Mean Absolute Error: 3.9267785791314544\n",
      "Accuracy: 10.75 %.\n",
      "Root Mean Square Error: 6.222751620520377\n",
      "Mean Square Error: 38.72263773068897\n",
      "R2 Error:  66.30475673768919\n"
     ]
    }
   ],
   "source": [
    "lr_errors = mean_absolute_error(yTest, predictions)\n",
    "# Calculate mean absolute percentage error (MAPE)\n",
    "lr_mape = 100 * (lr_errors / yTest)\n",
    "# Calculate and display accuracy\n",
    "lr_accuracy = 100 - np.mean(lr_mape)\n",
    "print('Mean Absolute Error:', mean_absolute_error(yTest, predictions))\n",
    "print('Accuracy:', round(lr_accuracy, 2), '%.')\n",
    "print(\"Root Mean Square Error:\", sqrt(mean_squared_error(yTest, predictions)))\n",
    "print(\"Mean Square Error:\", mean_squared_error(yTest, predictions))\n",
    "print(\"R2 Error: \", r2_score(yTest, predictions)*100)"
   ]
  },
  {
   "cell_type": "markdown",
   "metadata": {},
   "source": [
    "## II. Polynomial Regression"
   ]
  },
  {
   "cell_type": "markdown",
   "metadata": {},
   "source": [
    "### Analysing how many features we need for polynomial regression."
   ]
  },
  {
   "cell_type": "code",
   "execution_count": 69,
   "metadata": {},
   "outputs": [
    {
     "name": "stdout",
     "output_type": "stream",
     "text": [
      "The length of the X_Train is 4510 and X_Test is 1504 \n",
      "The length of the x_Train is 4510 and y_Test is 1504 \n"
     ]
    }
   ],
   "source": [
    "# we are feature selecting like removed transmission,Year etc...\n",
    "X = s_data.drop(['Car_Brand1','Price','Name','Year','Transmission','Power','Fuel_Type'],axis=1)\n",
    "Y = s_data['Price']\n",
    "\n",
    "# using all features except Name\n",
    "x= s_data.drop(['Car_Brand1', 'Price','Name'],axis=1)\n",
    "y= s_data['Price']\n",
    "\n",
    "from sklearn.model_selection import train_test_split\n",
    "X_Train, X_Test, Y_Train, Y_Test = train_test_split(X, Y, train_size = 0.75)\n",
    "x_Train, x_Test, y_Train, y_Test = train_test_split(x, y, train_size = 0.75,random_state=0)\n",
    "print(\"The length of the X_Train is {} and X_Test is {} \".format(len(X_Train),len(X_Test)))\n",
    "print(\"The length of the x_Train is {} and y_Test is {} \".format(len(x_Train),len(y_Test)))"
   ]
  },
  {
   "cell_type": "markdown",
   "metadata": {},
   "source": [
    "Trying Polynomial Regression with 2 different degrees and seeing the error metrics"
   ]
  },
  {
   "cell_type": "code",
   "execution_count": 70,
   "metadata": {},
   "outputs": [
    {
     "data": {
      "text/plain": [
       "Pipeline(memory=None,\n",
       "         steps=[('polynomialfeatures',\n",
       "                 PolynomialFeatures(degree=2, include_bias=True,\n",
       "                                    interaction_only=False, order='C')),\n",
       "                ('linearregression',\n",
       "                 LinearRegression(copy_X=True, fit_intercept=True, n_jobs=None,\n",
       "                                  normalize=False))],\n",
       "         verbose=False)"
      ]
     },
     "execution_count": 70,
     "metadata": {},
     "output_type": "execute_result"
    }
   ],
   "source": [
    "from sklearn.preprocessing import PolynomialFeatures\n",
    "from sklearn.pipeline import make_pipeline\n",
    "from sklearn.linear_model import LinearRegression\n",
    "degree=2\n",
    "polyreg=make_pipeline(PolynomialFeatures(degree),LinearRegression())\n",
    "polyreg.fit(x_Train,y_Train)\n",
    "polyreg_f=make_pipeline(PolynomialFeatures(degree),LinearRegression())\n",
    "polyreg_f.fit(X_Train,Y_Train)"
   ]
  },
  {
   "cell_type": "code",
   "execution_count": 71,
   "metadata": {},
   "outputs": [],
   "source": [
    "poly_pred=polyreg.predict(x_Test)\n",
    "poly_pred_f=polyreg_f.predict(X_Test)"
   ]
  },
  {
   "cell_type": "code",
   "execution_count": 72,
   "metadata": {},
   "outputs": [
    {
     "data": {
      "text/plain": [
       "<matplotlib.collections.PathCollection at 0x7f22841b1050>"
      ]
     },
     "execution_count": 72,
     "metadata": {},
     "output_type": "execute_result"
    },
    {
     "data": {
      "image/png": "[encoded data removed]",
      "text/plain": [
       "<Figure size 432x288 with 1 Axes>"
      ]
     },
     "metadata": {
      "needs_background": "light"
     },
     "output_type": "display_data"
    }
   ],
   "source": [
    "plt.title('Polynomial_Regressor_model_with degree=2')\n",
    "plt.scatter(y_Test,poly_pred, color='red')\n",
    "plt.scatter(y_Test, y_Test, color='green')"
   ]
  },
  {
   "cell_type": "code",
   "execution_count": 73,
   "metadata": {},
   "outputs": [
    {
     "data": {
      "text/plain": [
       "<matplotlib.collections.PathCollection at 0x7f2284137990>"
      ]
     },
     "execution_count": 73,
     "metadata": {},
     "output_type": "execute_result"
    },
    {
     "data": {
      "image/png": "[encoded data removed]",
      "text/plain": [
       "<Figure size 432x288 with 1 Axes>"
      ]
     },
     "metadata": {
      "needs_background": "light"
     },
     "output_type": "display_data"
    }
   ],
   "source": [
    "plt.title('Polynomial_Regressor_model_with degree=2')\n",
    "plt.scatter(Y_Test,poly_pred_f, color='red')\n",
    "plt.scatter(Y_Test, Y_Test, color='green')"
   ]
  },
  {
   "cell_type": "markdown",
   "metadata": {},
   "source": [
    "#### Error Metrics for degree 2"
   ]
  },
  {
   "cell_type": "code",
   "execution_count": 74,
   "metadata": {},
   "outputs": [
    {
     "name": "stdout",
     "output_type": "stream",
     "text": [
      "Mean Absolute Error(MAE): 2.47\n",
      "Mean Absolute Percentage Error (MAPE)  39.69521741490139\n",
      "Accuracy: 60.3 %.\n",
      "The Root Mean Squared Error (RMSE) is  4.784609266430778\n",
      "The R-squared error is  79.45112741192439\n"
     ]
    }
   ],
   "source": [
    "poly_errors = abs(poly_pred - y_Test)\n",
    "print('Mean Absolute Error(MAE):', round(np.mean(poly_errors), 2))\n",
    "# Calculate Mean Absolute Percentage Error (MAPE)\n",
    "poly_MAPE = 100 * (poly_errors / y_Test)\n",
    "print('Mean Absolute Percentage Error (MAPE) ',np.mean(np.abs((y_Test - poly_pred) / y_Test)) * 100)\n",
    "# Calculate and display accuracy\n",
    "poly_accuracy = 100 - np.mean(poly_MAPE)\n",
    "print('Accuracy:', round(poly_accuracy, 2), '%.')\n",
    "mse = mean_squared_error(y_Test, poly_pred)\n",
    "rmse = math.sqrt(mse)\n",
    "print('The Root Mean Squared Error (RMSE) is ',rmse)\n",
    "print('The R-squared error is ', r2_score(y_Test,poly_pred)*100)"
   ]
  },
  {
   "cell_type": "code",
   "execution_count": 75,
   "metadata": {},
   "outputs": [
    {
     "name": "stdout",
     "output_type": "stream",
     "text": [
      "We will see the error metrics with less features... in polynomial regression.\n",
      "\n",
      "Mean Absolute Error(MAE): 4.12\n",
      "Mean Absolute Percentage Error (MAPE)  65.1199553789207\n",
      "Accuracy: 33.57 %.\n",
      "The Root Mean Squared Error (RMSE) is  6.908311216066996\n",
      "The R-squared error is  61.956519022736146\n"
     ]
    }
   ],
   "source": [
    "print('We will see the error metrics with less features... in polynomial regression.\\n')\n",
    "poly_errors_f = abs(poly_pred_f - Y_Test)\n",
    "print('Mean Absolute Error(MAE):', round(np.mean(poly_errors_f), 2))\n",
    "# Calculate Mean Absolute Percentage Error (MAPE)\n",
    "poly_MAPE_f = 100 * (poly_errors_f / y_Test)\n",
    "print('Mean Absolute Percentage Error (MAPE) ',np.mean(np.abs((Y_Test - poly_pred_f) / Y_Test)) * 100)\n",
    "# Calculate and display accuracy\n",
    "poly_accuracy_f = 100 - np.mean(poly_MAPE_f)\n",
    "print('Accuracy:', round(poly_accuracy_f, 2), '%.')\n",
    "mse = mean_squared_error(Y_Test, poly_pred_f)\n",
    "rmse_f = math.sqrt(mse)\n",
    "print('The Root Mean Squared Error (RMSE) is ',rmse_f)\n",
    "print('The R-squared error is ',r2_score(Y_Test,poly_pred_f)*100)"
   ]
  },
  {
   "cell_type": "markdown",
   "metadata": {},
   "source": [
    "**Conclusion**: if we have more features our predictions will be more accurate."
   ]
  },
  {
   "cell_type": "markdown",
   "metadata": {},
   "source": [
    "### Trying Polynomial Regression with a Higher Degree"
   ]
  },
  {
   "cell_type": "code",
   "execution_count": 76,
   "metadata": {},
   "outputs": [],
   "source": [
    "degree1=3\n",
    "polyreg1=make_pipeline(PolynomialFeatures(degree1),LinearRegression())\n",
    "polyreg1.fit(x_Train,y_Train)\n",
    "poly_pred1=polyreg1.predict(x_Test)"
   ]
  },
  {
   "cell_type": "code",
   "execution_count": 77,
   "metadata": {},
   "outputs": [
    {
     "data": {
      "text/plain": [
       "<matplotlib.collections.PathCollection at 0x7f22840b8450>"
      ]
     },
     "execution_count": 77,
     "metadata": {},
     "output_type": "execute_result"
    },
    {
     "data": {
      "image/png": "[encoded data removed]",
      "text/plain": [
       "<Figure size 432x288 with 1 Axes>"
      ]
     },
     "metadata": {
      "needs_background": "light"
     },
     "output_type": "display_data"
    }
   ],
   "source": [
    "plt.title('Polynomial_Regressor_model_with degree=3')\n",
    "plt.scatter(y_Test,poly_pred1, color='red')\n",
    "plt.scatter(y_Test, y_Test, color='green')"
   ]
  },
  {
   "cell_type": "markdown",
   "metadata": {},
   "source": [
    "#### Error Metrics for degree = 3"
   ]
  },
  {
   "cell_type": "code",
   "execution_count": 78,
   "metadata": {},
   "outputs": [
    {
     "name": "stdout",
     "output_type": "stream",
     "text": [
      "Mean Absolute Error(MAE): 3.79\n",
      "Mean Absolute Percentage Error (MAPE)  68.25799679296681\n",
      "Accuracy: 31.74 %.\n",
      "The Root Mean Squared Error (RMSE) is  7.8936243330633316\n",
      "The R-squared error is  44.06959640986875\n"
     ]
    }
   ],
   "source": [
    "poly_errors1 = abs(poly_pred1 - y_Test)\n",
    "print('Mean Absolute Error(MAE):', round(np.mean(poly_errors1), 2))\n",
    "# Calculate Mean Absolute Percentage Error (MAPE)\n",
    "poly_MAPE1 = 100 * (poly_errors1 / y_Test)\n",
    "print('Mean Absolute Percentage Error (MAPE) ',np.mean(np.abs((y_Test - poly_pred1) / y_Test)) * 100)\n",
    "# Calculate and display accuracy\n",
    "poly_accuracy1 = 100 - np.mean(poly_MAPE1)\n",
    "print('Accuracy:', round(poly_accuracy1, 2), '%.')\n",
    "mse = mean_squared_error(y_Test, poly_pred1)\n",
    "rmse = math.sqrt(mse)\n",
    "print('The Root Mean Squared Error (RMSE) is ',rmse)\n",
    "print('The R-squared error is ',r2_score(y_Test,poly_pred1)*100)"
   ]
  },
  {
   "cell_type": "markdown",
   "metadata": {},
   "source": [
    "## III. Gradient Boost"
   ]
  },
  {
   "cell_type": "code",
   "execution_count": 79,
   "metadata": {},
   "outputs": [],
   "source": [
    "from sklearn import datasets, ensemble\n",
    "from sklearn.inspection import permutation_importance"
   ]
  },
  {
   "cell_type": "code",
   "execution_count": 80,
   "metadata": {},
   "outputs": [
    {
     "data": {
      "text/plain": [
       "GradientBoostingRegressor(alpha=0.9, ccp_alpha=0.0, criterion='friedman_mse',\n",
       "                          init=None, learning_rate=0.01, loss='ls', max_depth=4,\n",
       "                          max_features=None, max_leaf_nodes=None,\n",
       "                          min_impurity_decrease=0.0, min_impurity_split=None,\n",
       "                          min_samples_leaf=1, min_samples_split=5,\n",
       "                          min_weight_fraction_leaf=0.0, n_estimators=2100,\n",
       "                          n_iter_no_change=None, presort='deprecated',\n",
       "                          random_state=None, subsample=1.0, tol=0.0001,\n",
       "                          validation_fraction=0.1, verbose=0, warm_start=False)"
      ]
     },
     "execution_count": 80,
     "metadata": {},
     "output_type": "execute_result"
    }
   ],
   "source": [
    "params = {'n_estimators': 2100,\n",
    "          'max_depth': 4,\n",
    "          'min_samples_split': 5,\n",
    "          'learning_rate': 0.01,\n",
    "          'loss': 'ls'}\n",
    "reg = ensemble.GradientBoostingRegressor(**params)\n",
    "reg.fit(x_Train, y_Train)"
   ]
  },
  {
   "cell_type": "markdown",
   "metadata": {},
   "source": [
    "### Error Metrics"
   ]
  },
  {
   "cell_type": "code",
   "execution_count": 81,
   "metadata": {},
   "outputs": [
    {
     "name": "stdout",
     "output_type": "stream",
     "text": [
      "The mean squared error (MSE) on test set: 14.8418\n",
      "Mean Absolute Error(MAE): 1.54\n",
      "Mean Absolute Percentage Error (MAPE)  20.684596492378006\n",
      "Accuracy: 79.32 %.\n"
     ]
    }
   ],
   "source": [
    "mse = mean_squared_error(y_Test, reg.predict(x_Test))\n",
    "print(\"The mean squared error (MSE) on test set: {:.4f}\".format(mse))\n",
    "r2_score(y_Test,reg.predict(x_Test))*100\n",
    "reg_pred=reg.predict(x_Test)\n",
    "reg_errors = abs(reg_pred - y_Test)\n",
    "print('Mean Absolute Error(MAE):', round(np.mean(reg_errors), 2))\n",
    "# Calculate Mean Absolute Percentage Error (MAPE)\n",
    "reg_MAPE = 100 * (reg_errors / y_Test)\n",
    "print('Mean Absolute Percentage Error (MAPE) ',np.mean(np.abs((y_Test - reg_pred) / y_Test)) * 100)\n",
    "# Calculate and display accuracy\n",
    "reg_accuracy = 100 - np.mean(reg_MAPE)\n",
    "print('Accuracy:', round(reg_accuracy, 2), '%.')"
   ]
  },
  {
   "cell_type": "code",
   "execution_count": 82,
   "metadata": {},
   "outputs": [
    {
     "data": {
      "image/png": "[encoded data removed]",
      "text/plain": [
       "<Figure size 432x432 with 1 Axes>"
      ]
     },
     "metadata": {
      "needs_background": "light"
     },
     "output_type": "display_data"
    }
   ],
   "source": [
    "test_score = np.zeros((params['n_estimators'],), dtype=np.float64)\n",
    "for i, y_pred in enumerate(reg.staged_predict(x_Test)):\n",
    "    test_score[i] = reg.loss_(y_Test, y_pred)\n",
    "\n",
    "fig = plt.figure(figsize=(6, 6))\n",
    "plt.subplot(1, 1, 1)\n",
    "plt.title('Deviance')\n",
    "plt.plot(np.arange(params['n_estimators']) + 1, reg.train_score_, 'b-',\n",
    "         label='Training Set Deviance')\n",
    "plt.plot(np.arange(params['n_estimators']) + 1, test_score, 'r-',\n",
    "         label='Test Set Deviance')\n",
    "plt.legend(loc='upper right')\n",
    "plt.xlabel('Boosting Iterations')\n",
    "plt.ylabel('Deviance')\n",
    "fig.tight_layout()\n",
    "plt.show()"
   ]
  },
  {
   "cell_type": "markdown",
   "metadata": {},
   "source": [
    "## IV. Random Forest"
   ]
  },
  {
   "cell_type": "code",
   "execution_count": 83,
   "metadata": {},
   "outputs": [
    {
     "data": {
      "text/plain": [
       "RandomForestRegressor(bootstrap=True, ccp_alpha=0.0, criterion='mse',\n",
       "                      max_depth=None, max_features='auto', max_leaf_nodes=None,\n",
       "                      max_samples=None, min_impurity_decrease=0.0,\n",
       "                      min_impurity_split=None, min_samples_leaf=1,\n",
       "                      min_samples_split=2, min_weight_fraction_leaf=0.0,\n",
       "                      n_estimators=1000, n_jobs=None, oob_score=False,\n",
       "                      random_state=42, verbose=0, warm_start=False)"
      ]
     },
     "execution_count": 83,
     "metadata": {},
     "output_type": "execute_result"
    }
   ],
   "source": [
    "from sklearn.ensemble import RandomForestRegressor\n",
    "rf = RandomForestRegressor(n_estimators = 1000, random_state = 42)\n",
    "rf.fit(xTrain, yTrain)"
   ]
  },
  {
   "cell_type": "code",
   "execution_count": 84,
   "metadata": {},
   "outputs": [],
   "source": [
    "rf_predictions = rf.predict(xTest)"
   ]
  },
  {
   "cell_type": "code",
   "execution_count": 85,
   "metadata": {},
   "outputs": [],
   "source": [
    "rf_errors = abs(rf_predictions - yTest)"
   ]
  },
  {
   "cell_type": "markdown",
   "metadata": {},
   "source": [
    "### Error Metrics"
   ]
  },
  {
   "cell_type": "code",
   "execution_count": 86,
   "metadata": {},
   "outputs": [
    {
     "name": "stdout",
     "output_type": "stream",
     "text": [
      "Mean Absolute Error: 1.46\n",
      "Accuracy: 83.5 %.\n",
      "Root Mean Square Error: 3.25591618292644\n",
      "Mean Square Error: 10.600990190242277\n",
      "R2 Error:  90.77534578698163\n"
     ]
    }
   ],
   "source": [
    "print('Mean Absolute Error:', round(np.mean(rf_errors), 2))\n",
    "# Calculate mean absolute percentage error (MAPE)\n",
    "mape = 100 * (rf_errors / yTest)\n",
    "# Calculate and display accuracy\n",
    "rf_accuracy = 100 - np.mean(mape)\n",
    "print('Accuracy:', round(rf_accuracy, 2), '%.')\n",
    "print(\"Root Mean Square Error:\", sqrt(mean_squared_error(yTest, rf_predictions)))\n",
    "print(\"Mean Square Error:\", mean_squared_error(yTest, rf_predictions))\n",
    "print(\"R2 Error: \", r2_score(yTest, rf_predictions)*100)"
   ]
  },
  {
   "cell_type": "code",
   "execution_count": 87,
   "metadata": {},
   "outputs": [
    {
     "data": {
      "text/plain": [
       "<matplotlib.collections.PathCollection at 0x7f22798e07d0>"
      ]
     },
     "execution_count": 87,
     "metadata": {},
     "output_type": "execute_result"
    },
    {
     "data": {
      "text/plain": [
       "<Figure size 432x288 with 0 Axes>"
      ]
     },
     "metadata": {},
     "output_type": "display_data"
    },
    {
     "data": {
      "image/png": "[encoded data removed]",
      "text/plain": [
       "<Figure size 720x720 with 1 Axes>"
      ]
     },
     "metadata": {
      "needs_background": "light"
     },
     "output_type": "display_data"
    }
   ],
   "source": [
    "plt.tight_layout()\n",
    "plt.figure(figsize=(10,10))\n",
    "plt.scatter(yTest,rf_predictions, color='red')\n",
    "plt.scatter(yTest, yTest, color='green')"
   ]
  },
  {
   "cell_type": "markdown",
   "metadata": {},
   "source": [
    "## V. Grid Seach CV with Random Forest"
   ]
  },
  {
   "cell_type": "code",
   "execution_count": 88,
   "metadata": {},
   "outputs": [
    {
     "name": "stdout",
     "output_type": "stream",
     "text": [
      "Fitting 3 folds for each of 4 candidates, totalling 12 fits\n"
     ]
    },
    {
     "name": "stderr",
     "output_type": "stream",
     "text": [
      "/home/ayaan/anaconda3/lib/python3.7/site-packages/sklearn/model_selection/_search.py:281: UserWarning: The total space of parameters 4 is smaller than n_iter=50. Running 4 iterations. For exhaustive searches, use GridSearchCV.\n",
      "  % (grid_size, self.n_iter, grid_size), UserWarning)\n",
      "[Parallel(n_jobs=-1)]: Using backend LokyBackend with 12 concurrent workers.\n",
      "[Parallel(n_jobs=-1)]: Done   3 out of  12 | elapsed:    4.9s remaining:   14.6s\n",
      "[Parallel(n_jobs=-1)]: Done  10 out of  12 | elapsed:   11.0s remaining:    2.2s\n",
      "[Parallel(n_jobs=-1)]: Done  12 out of  12 | elapsed:   11.3s finished\n"
     ]
    },
    {
     "data": {
      "text/plain": [
       "RandomizedSearchCV(cv=3, error_score=nan,\n",
       "                   estimator=RandomForestRegressor(bootstrap=True,\n",
       "                                                   ccp_alpha=0.0,\n",
       "                                                   criterion='mse',\n",
       "                                                   max_depth=None,\n",
       "                                                   max_features='auto',\n",
       "                                                   max_leaf_nodes=None,\n",
       "                                                   max_samples=None,\n",
       "                                                   min_impurity_decrease=0.0,\n",
       "                                                   min_impurity_split=None,\n",
       "                                                   min_samples_leaf=1,\n",
       "                                                   min_samples_split=2,\n",
       "                                                   min_weight_fraction_leaf=0.0,\n",
       "                                                   n_estimators=1000,\n",
       "                                                   n_jobs=None, oob_score=False,\n",
       "                                                   random_state=None, verbose=0,\n",
       "                                                   warm_start=False),\n",
       "                   iid='deprecated', n_iter=50, n_jobs=-1,\n",
       "                   param_distributions={'bootstrap': [True, False],\n",
       "                                        'max_depth': [5, None],\n",
       "                                        'max_features': ['auto'],\n",
       "                                        'min_samples_leaf': [2],\n",
       "                                        'min_samples_split': [5],\n",
       "                                        'n_estimators': [1000]},\n",
       "                   pre_dispatch='2*n_jobs', random_state=42, refit=True,\n",
       "                   return_train_score=False, scoring=None, verbose=2)"
      ]
     },
     "execution_count": 88,
     "metadata": {},
     "output_type": "execute_result"
    }
   ],
   "source": [
    "from sklearn.model_selection import RandomizedSearchCV\n",
    "RFR=RandomForestRegressor(n_estimators=1000)\n",
    "# Number of trees in random forest\n",
    "n_estimators = [1000]\n",
    "# Number of features to consider at every split\n",
    "max_features = ['auto']\n",
    "# Maximum number of levels in tree\n",
    "max_depth = [5]\n",
    "max_depth.append(None)\n",
    "# Minimum number of samples required to split a node\n",
    "min_samples_split = [5]\n",
    "# Minimum number of samples required at each leaf node\n",
    "min_samples_leaf = [ 2 ]\n",
    "# Method of selecting samples for training each tree\n",
    "bootstrap = [True, False]\n",
    "random_grid = {'n_estimators': n_estimators,\n",
    "               'max_features': max_features,\n",
    "               'max_depth': max_depth,\n",
    "               'min_samples_split': min_samples_split,\n",
    "               'min_samples_leaf': min_samples_leaf,\n",
    "               'bootstrap': bootstrap} \n",
    "rf_random = RandomizedSearchCV(estimator = RFR, param_distributions = random_grid, n_iter = 50, cv = 3, verbose=2, random_state=42, n_jobs = -1)\n",
    "rf_random.fit(x_Train, y_Train)"
   ]
  },
  {
   "cell_type": "markdown",
   "metadata": {},
   "source": [
    "### Error Metrics"
   ]
  },
  {
   "cell_type": "code",
   "execution_count": 89,
   "metadata": {
    "scrolled": true
   },
   "outputs": [
    {
     "name": "stdout",
     "output_type": "stream",
     "text": [
      "Average Error: 1.5263 degrees.\n",
      "Accuracy = 80.50%.\n"
     ]
    }
   ],
   "source": [
    "def evaluate(model, test_features, test_labels):\n",
    "    predictions = model.predict(test_features)\n",
    "    errors = abs(predictions - test_labels)\n",
    "    mape = 100 * np.mean(errors / test_labels)\n",
    "    accuracy = 100 - mape\n",
    "    print('Average Error: {:0.4f} degrees.'.format(np.mean(errors)))\n",
    "    print('Accuracy = {:0.2f}%.'.format(accuracy))\n",
    "    return accuracy\n",
    "best_random = rf_random.best_estimator_\n",
    "random_accuracy = evaluate(best_random, x_Test, y_Test)"
   ]
  }
 ],
 "metadata": {
  "kernelspec": {
   "display_name": "Python 3",
   "language": "python",
   "name": "python3"
  },
  "language_info": {
   "codemirror_mode": {
    "name": "ipython",
    "version": 3
   },
   "file_extension": ".py",
   "mimetype": "text/x-python",
   "name": "python",
   "nbconvert_exporter": "python",
   "pygments_lexer": "ipython3",
   "version": "3.7.4"
  }
 },
 "nbformat": 4,
 "nbformat_minor": 4
}
